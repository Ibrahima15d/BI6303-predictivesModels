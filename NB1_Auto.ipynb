{
 "cells": [
  {
   "cell_type": "markdown",
   "metadata": {},
   "source": [
    "### Notebook 1: Warm up on Pre-processing using Pandas, Matplotlib (and a little Scikit Learn)."
   ]
  },
  {
   "cell_type": "markdown",
   "metadata": {},
   "source": [
    "Consider the data collected for a set of cars.  This data is available in .csv format in the file auto.csv. Use pandas (as well as other libraries as mentioned) to perform the following tasks. "
   ]
  },
  {
   "cell_type": "code",
   "execution_count": 482,
   "metadata": {},
   "outputs": [],
   "source": [
    "# import packages\n",
    "%matplotlib inline \n",
    "import numpy as np\n",
    "import matplotlib.pyplot as plt\n",
    "import pandas as pd\n",
    "import seaborn as sn"
   ]
  },
  {
   "cell_type": "markdown",
   "metadata": {},
   "source": [
    "Next, let's check the working directory."
   ]
  },
  {
   "cell_type": "code",
   "execution_count": 483,
   "metadata": {},
   "outputs": [
    {
     "data": {
      "text/plain": [
       "'C:\\\\Users\\\\ibrah\\\\OneDrive\\\\Documents\\\\AData_Analytics\\\\BIA-6303PredModels\\\\BI6303-predictivesModels\\\\module1\\\\data'"
      ]
     },
     "execution_count": 483,
     "metadata": {},
     "output_type": "execute_result"
    }
   ],
   "source": [
    "%pwd"
   ]
  },
  {
   "cell_type": "markdown",
   "metadata": {},
   "source": [
    "Directory access"
   ]
  },
  {
   "cell_type": "code",
   "execution_count": 484,
   "metadata": {},
   "outputs": [
    {
     "name": "stdout",
     "output_type": "stream",
     "text": [
      "C:\\Users\\ibrah\\OneDrive\\Documents\\AData_Analytics\\BIA-6303PredModels\\BI6303-predictivesModels\\module1\\data\n"
     ]
    }
   ],
   "source": [
    "cd C:\\\\Users\\\\ibrah\\\\OneDrive\\\\Documents\\\\AData_Analytics\\\\BIA-6303PredModels\\\\BI6303-predictivesModels\\\\module1\\\\data"
   ]
  },
  {
   "cell_type": "markdown",
   "metadata": {},
   "source": [
    "##### 1.\tRead in AUTO.csv file into a data frame and call it Auto. "
   ]
  },
  {
   "cell_type": "code",
   "execution_count": 485,
   "metadata": {},
   "outputs": [
    {
     "data": {
      "text/html": [
       "<div>\n",
       "<style scoped>\n",
       "    .dataframe tbody tr th:only-of-type {\n",
       "        vertical-align: middle;\n",
       "    }\n",
       "\n",
       "    .dataframe tbody tr th {\n",
       "        vertical-align: top;\n",
       "    }\n",
       "\n",
       "    .dataframe thead th {\n",
       "        text-align: right;\n",
       "    }\n",
       "</style>\n",
       "<table border=\"1\" class=\"dataframe\">\n",
       "  <thead>\n",
       "    <tr style=\"text-align: right;\">\n",
       "      <th></th>\n",
       "      <th>Name</th>\n",
       "      <th>Drive Type</th>\n",
       "      <th>Mileage (mpg)</th>\n",
       "      <th>Fuel Type</th>\n",
       "      <th>Capacity (gal)</th>\n",
       "      <th>Length (inches)</th>\n",
       "      <th>Wheel Base (inches)</th>\n",
       "      <th>Width (inches)</th>\n",
       "      <th>Turning Circle (feet)</th>\n",
       "      <th>Weight (lbs)</th>\n",
       "      <th>Door Top (inches)</th>\n",
       "      <th>Luggage (cu. ft.)</th>\n",
       "      <th>Front Shoulder (inches)</th>\n",
       "      <th>Front Leg Room (inches)</th>\n",
       "      <th>Front Head Room (inches)</th>\n",
       "      <th>Rear Shoulder (inches)</th>\n",
       "      <th>Rear Leg Room (inches)</th>\n",
       "      <th>Rear Head Room (inches)</th>\n",
       "    </tr>\n",
       "  </thead>\n",
       "  <tbody>\n",
       "    <tr>\n",
       "      <td>0</td>\n",
       "      <td>Acura Integra</td>\n",
       "      <td>Front</td>\n",
       "      <td>31</td>\n",
       "      <td>Regular</td>\n",
       "      <td>13.2</td>\n",
       "      <td>172</td>\n",
       "      <td>101</td>\n",
       "      <td>67</td>\n",
       "      <td>39</td>\n",
       "      <td>2,635</td>\n",
       "      <td>47.5</td>\n",
       "      <td>13.0</td>\n",
       "      <td>51.5</td>\n",
       "      <td>41.5</td>\n",
       "      <td>2.0</td>\n",
       "      <td>46.5</td>\n",
       "      <td>25.0</td>\n",
       "      <td>0.5</td>\n",
       "    </tr>\n",
       "    <tr>\n",
       "      <td>1</td>\n",
       "      <td>Acura TL</td>\n",
       "      <td>Front</td>\n",
       "      <td>22</td>\n",
       "      <td>Premium</td>\n",
       "      <td>17.1</td>\n",
       "      <td>193</td>\n",
       "      <td>108</td>\n",
       "      <td>70</td>\n",
       "      <td>40</td>\n",
       "      <td>3,460</td>\n",
       "      <td>50.0</td>\n",
       "      <td>14.0</td>\n",
       "      <td>56.0</td>\n",
       "      <td>40.5</td>\n",
       "      <td>2.5</td>\n",
       "      <td>55.0</td>\n",
       "      <td>27.0</td>\n",
       "      <td>2.0</td>\n",
       "    </tr>\n",
       "    <tr>\n",
       "      <td>2</td>\n",
       "      <td>Audi A4</td>\n",
       "      <td>Front</td>\n",
       "      <td>22</td>\n",
       "      <td>Premium</td>\n",
       "      <td>15.9</td>\n",
       "      <td>178</td>\n",
       "      <td>103</td>\n",
       "      <td>68</td>\n",
       "      <td>36</td>\n",
       "      <td>3,345</td>\n",
       "      <td>50.5</td>\n",
       "      <td>14.0</td>\n",
       "      <td>54.0</td>\n",
       "      <td>40.5</td>\n",
       "      <td>3.5</td>\n",
       "      <td>52.0</td>\n",
       "      <td>24.5</td>\n",
       "      <td>2.0</td>\n",
       "    </tr>\n",
       "    <tr>\n",
       "      <td>3</td>\n",
       "      <td>Audi A6</td>\n",
       "      <td>Front</td>\n",
       "      <td>20</td>\n",
       "      <td>Premium</td>\n",
       "      <td>18.5</td>\n",
       "      <td>192</td>\n",
       "      <td>109</td>\n",
       "      <td>71</td>\n",
       "      <td>39</td>\n",
       "      <td>3,785</td>\n",
       "      <td>51.0</td>\n",
       "      <td>15.0</td>\n",
       "      <td>55.0</td>\n",
       "      <td>42.0</td>\n",
       "      <td>4.0</td>\n",
       "      <td>55.0</td>\n",
       "      <td>30.0</td>\n",
       "      <td>3.5</td>\n",
       "    </tr>\n",
       "    <tr>\n",
       "      <td>4</td>\n",
       "      <td>BMW 3-Series</td>\n",
       "      <td>Rear</td>\n",
       "      <td>24</td>\n",
       "      <td>Premium</td>\n",
       "      <td>16.6</td>\n",
       "      <td>176</td>\n",
       "      <td>107</td>\n",
       "      <td>69</td>\n",
       "      <td>36</td>\n",
       "      <td>3,265</td>\n",
       "      <td>50.0</td>\n",
       "      <td>11.0</td>\n",
       "      <td>55.0</td>\n",
       "      <td>41.5</td>\n",
       "      <td>3.5</td>\n",
       "      <td>54.0</td>\n",
       "      <td>26.0</td>\n",
       "      <td>3.0</td>\n",
       "    </tr>\n",
       "    <tr>\n",
       "      <td>5</td>\n",
       "      <td>BMW 5-Series</td>\n",
       "      <td>Rear</td>\n",
       "      <td>20</td>\n",
       "      <td>Premium</td>\n",
       "      <td>18.5</td>\n",
       "      <td>188</td>\n",
       "      <td>111</td>\n",
       "      <td>71</td>\n",
       "      <td>38</td>\n",
       "      <td>3,585</td>\n",
       "      <td>51.0</td>\n",
       "      <td>11.0</td>\n",
       "      <td>57.0</td>\n",
       "      <td>43.0</td>\n",
       "      <td>3.5</td>\n",
       "      <td>55.0</td>\n",
       "      <td>29.0</td>\n",
       "      <td>3.5</td>\n",
       "    </tr>\n",
       "    <tr>\n",
       "      <td>6</td>\n",
       "      <td>Buick Century</td>\n",
       "      <td>Front</td>\n",
       "      <td>22</td>\n",
       "      <td>Regular</td>\n",
       "      <td>17.5</td>\n",
       "      <td>195</td>\n",
       "      <td>109</td>\n",
       "      <td>73</td>\n",
       "      <td>40</td>\n",
       "      <td>3,350</td>\n",
       "      <td>50.5</td>\n",
       "      <td>17.0</td>\n",
       "      <td>58.0</td>\n",
       "      <td>44.0</td>\n",
       "      <td>5.0</td>\n",
       "      <td>57.0</td>\n",
       "      <td>30.0</td>\n",
       "      <td>2.0</td>\n",
       "    </tr>\n",
       "    <tr>\n",
       "      <td>7</td>\n",
       "      <td>Buick LeSabre</td>\n",
       "      <td>Front</td>\n",
       "      <td>20</td>\n",
       "      <td>Regular</td>\n",
       "      <td>17.5</td>\n",
       "      <td>200</td>\n",
       "      <td>112</td>\n",
       "      <td>74</td>\n",
       "      <td>42</td>\n",
       "      <td>3,640</td>\n",
       "      <td>51.0</td>\n",
       "      <td>18.0</td>\n",
       "      <td>59.5</td>\n",
       "      <td>40.5</td>\n",
       "      <td>5.0</td>\n",
       "      <td>58.0</td>\n",
       "      <td>27.5</td>\n",
       "      <td>4.5</td>\n",
       "    </tr>\n",
       "    <tr>\n",
       "      <td>8</td>\n",
       "      <td>Buick Park Avenue</td>\n",
       "      <td>Front</td>\n",
       "      <td>21</td>\n",
       "      <td>Regular</td>\n",
       "      <td>18.5</td>\n",
       "      <td>207</td>\n",
       "      <td>114</td>\n",
       "      <td>75</td>\n",
       "      <td>43</td>\n",
       "      <td>3,880</td>\n",
       "      <td>51.0</td>\n",
       "      <td>19.0</td>\n",
       "      <td>59.5</td>\n",
       "      <td>42.5</td>\n",
       "      <td>6.0</td>\n",
       "      <td>58.5</td>\n",
       "      <td>31.5</td>\n",
       "      <td>3.0</td>\n",
       "    </tr>\n",
       "    <tr>\n",
       "      <td>9</td>\n",
       "      <td>Buick Regal</td>\n",
       "      <td>Front</td>\n",
       "      <td>21</td>\n",
       "      <td>Regular</td>\n",
       "      <td>17.5</td>\n",
       "      <td>196</td>\n",
       "      <td>109</td>\n",
       "      <td>73</td>\n",
       "      <td>40</td>\n",
       "      <td>3,325</td>\n",
       "      <td>50.5</td>\n",
       "      <td>17.0</td>\n",
       "      <td>58.0</td>\n",
       "      <td>43.0</td>\n",
       "      <td>5.0</td>\n",
       "      <td>56.5</td>\n",
       "      <td>29.0</td>\n",
       "      <td>2.5</td>\n",
       "    </tr>\n",
       "  </tbody>\n",
       "</table>\n",
       "</div>"
      ],
      "text/plain": [
       "                Name Drive Type  Mileage (mpg) Fuel Type  Capacity (gal)  \\\n",
       "0      Acura Integra      Front             31   Regular            13.2   \n",
       "1           Acura TL      Front             22   Premium            17.1   \n",
       "2            Audi A4      Front             22   Premium            15.9   \n",
       "3            Audi A6      Front             20   Premium            18.5   \n",
       "4       BMW 3-Series       Rear             24   Premium            16.6   \n",
       "5       BMW 5-Series       Rear             20   Premium            18.5   \n",
       "6      Buick Century      Front             22   Regular            17.5   \n",
       "7      Buick LeSabre      Front             20   Regular            17.5   \n",
       "8  Buick Park Avenue      Front             21   Regular            18.5   \n",
       "9        Buick Regal      Front             21   Regular            17.5   \n",
       "\n",
       "   Length (inches)  Wheel Base (inches)  Width (inches)  \\\n",
       "0              172                  101              67   \n",
       "1              193                  108              70   \n",
       "2              178                  103              68   \n",
       "3              192                  109              71   \n",
       "4              176                  107              69   \n",
       "5              188                  111              71   \n",
       "6              195                  109              73   \n",
       "7              200                  112              74   \n",
       "8              207                  114              75   \n",
       "9              196                  109              73   \n",
       "\n",
       "   Turning Circle (feet) Weight (lbs)  Door Top (inches)  Luggage (cu. ft.)  \\\n",
       "0                     39        2,635               47.5               13.0   \n",
       "1                     40        3,460               50.0               14.0   \n",
       "2                     36        3,345               50.5               14.0   \n",
       "3                     39        3,785               51.0               15.0   \n",
       "4                     36        3,265               50.0               11.0   \n",
       "5                     38        3,585               51.0               11.0   \n",
       "6                     40        3,350               50.5               17.0   \n",
       "7                     42        3,640               51.0               18.0   \n",
       "8                     43        3,880               51.0               19.0   \n",
       "9                     40        3,325               50.5               17.0   \n",
       "\n",
       "   Front Shoulder (inches)  Front Leg Room (inches)  Front Head Room (inches)  \\\n",
       "0                     51.5                     41.5                       2.0   \n",
       "1                     56.0                     40.5                       2.5   \n",
       "2                     54.0                     40.5                       3.5   \n",
       "3                     55.0                     42.0                       4.0   \n",
       "4                     55.0                     41.5                       3.5   \n",
       "5                     57.0                     43.0                       3.5   \n",
       "6                     58.0                     44.0                       5.0   \n",
       "7                     59.5                     40.5                       5.0   \n",
       "8                     59.5                     42.5                       6.0   \n",
       "9                     58.0                     43.0                       5.0   \n",
       "\n",
       "   Rear Shoulder (inches)  Rear Leg Room (inches)  Rear Head Room (inches)  \n",
       "0                    46.5                    25.0                      0.5  \n",
       "1                    55.0                    27.0                      2.0  \n",
       "2                    52.0                    24.5                      2.0  \n",
       "3                    55.0                    30.0                      3.5  \n",
       "4                    54.0                    26.0                      3.0  \n",
       "5                    55.0                    29.0                      3.5  \n",
       "6                    57.0                    30.0                      2.0  \n",
       "7                    58.0                    27.5                      4.5  \n",
       "8                    58.5                    31.5                      3.0  \n",
       "9                    56.5                    29.0                      2.5  "
      ]
     },
     "execution_count": 485,
     "metadata": {},
     "output_type": "execute_result"
    }
   ],
   "source": [
    "#import Using Pandas \n",
    "#Because of errors msg, we'll use the encoding 'ISO-8859-1' or 'latin 1'\n",
    "auto0=pd.read_csv(\"auto_data.csv\", encoding='latin1', engine='python')\n",
    "auto0.head(10)"
   ]
  },
  {
   "cell_type": "markdown",
   "metadata": {},
   "source": [
    "The auto dataset contains 106 rows and 18 features."
   ]
  },
  {
   "cell_type": "markdown",
   "metadata": {},
   "source": [
    "### Dataset cleaning:\n",
    "\n",
    "Now let's check our dataset in order to detect and correct (or remove) corrupt or inaccurate records. "
   ]
  },
  {
   "cell_type": "markdown",
   "metadata": {},
   "source": [
    "First, I am  now Checking the variables types."
   ]
  },
  {
   "cell_type": "code",
   "execution_count": 486,
   "metadata": {},
   "outputs": [
    {
     "name": "stdout",
     "output_type": "stream",
     "text": [
      "<class 'pandas.core.frame.DataFrame'>\n",
      "RangeIndex: 106 entries, 0 to 105\n",
      "Data columns (total 18 columns):\n",
      "Name                        106 non-null object\n",
      "Drive Type                  106 non-null object\n",
      "Mileage (mpg)               106 non-null int64\n",
      "Fuel Type                   106 non-null object\n",
      "Capacity (gal)              106 non-null float64\n",
      "Length (inches)             106 non-null int64\n",
      "Wheel Base (inches)         106 non-null int64\n",
      "Width (inches)              106 non-null int64\n",
      "Turning Circle (feet)       106 non-null int64\n",
      "Weight (lbs)                106 non-null object\n",
      "Door Top (inches)           106 non-null float64\n",
      "Luggage (cu. ft.)           104 non-null float64\n",
      "Front Shoulder (inches)     106 non-null float64\n",
      "Front Leg Room (inches)     106 non-null float64\n",
      "Front Head Room (inches)    106 non-null float64\n",
      "Rear Shoulder (inches)      106 non-null float64\n",
      "Rear Leg Room (inches)      106 non-null float64\n",
      "Rear Head Room (inches)     106 non-null float64\n",
      "dtypes: float64(9), int64(5), object(4)\n",
      "memory usage: 15.0+ KB\n"
     ]
    }
   ],
   "source": [
    "#show variables info\n",
    "auto0.info()"
   ]
  },
  {
   "cell_type": "markdown",
   "metadata": {},
   "source": [
    "The variable 'Weight' is a type object (string), we therefore need to convert the column in the appropiate type, i.e numeric (float). "
   ]
  },
  {
   "cell_type": "code",
   "execution_count": 487,
   "metadata": {},
   "outputs": [],
   "source": [
    "def convert_value(val):\n",
    "    \"\"\"\n",
    "    Convert the string number value to a float\n",
    "     - Remove $\n",
    "     - Remove commas\n",
    "    \"\"\"\n",
    "    new_val = val.replace(',','').replace('$', '')\n",
    "    return float(new_val)"
   ]
  },
  {
   "cell_type": "code",
   "execution_count": 488,
   "metadata": {},
   "outputs": [
    {
     "data": {
      "text/plain": [
       "0      2635.0\n",
       "1      3460.0\n",
       "2      3345.0\n",
       "3      3785.0\n",
       "4      3265.0\n",
       "        ...  \n",
       "101    2780.0\n",
       "102    3175.0\n",
       "103    2960.0\n",
       "104    3305.0\n",
       "105    3630.0\n",
       "Name: Weight (lbs), Length: 106, dtype: float64"
      ]
     },
     "execution_count": 488,
     "metadata": {},
     "output_type": "execute_result"
    }
   ],
   "source": [
    "#Using the convert_value function\n",
    "auto0['Weight (lbs)'].apply(convert_value)\n",
    "\n",
    "#OR using lambda function \n",
    "#auto_df['Weight (lbs)']=auto_df['Weight (lbs)'].apply(lambda x: x.replace('$', '').replace(',', '')).astype('float')"
   ]
  },
  {
   "cell_type": "markdown",
   "metadata": {},
   "source": [
    "Now I am going to import again the auto data set using the function convert_value for weight and limit the dataset to its size."
   ]
  },
  {
   "cell_type": "code",
   "execution_count": 489,
   "metadata": {},
   "outputs": [
    {
     "data": {
      "text/html": [
       "<div>\n",
       "<style scoped>\n",
       "    .dataframe tbody tr th:only-of-type {\n",
       "        vertical-align: middle;\n",
       "    }\n",
       "\n",
       "    .dataframe tbody tr th {\n",
       "        vertical-align: top;\n",
       "    }\n",
       "\n",
       "    .dataframe thead th {\n",
       "        text-align: right;\n",
       "    }\n",
       "</style>\n",
       "<table border=\"1\" class=\"dataframe\">\n",
       "  <thead>\n",
       "    <tr style=\"text-align: right;\">\n",
       "      <th></th>\n",
       "      <th>Name</th>\n",
       "      <th>Drive Type</th>\n",
       "      <th>Mileage (mpg)</th>\n",
       "      <th>Fuel Type</th>\n",
       "      <th>Capacity (gal)</th>\n",
       "      <th>Length (inches)</th>\n",
       "      <th>Wheel Base (inches)</th>\n",
       "      <th>Width (inches)</th>\n",
       "      <th>Turning Circle (feet)</th>\n",
       "      <th>Weight (lbs)</th>\n",
       "      <th>Door Top (inches)</th>\n",
       "      <th>Luggage (cu. ft.)</th>\n",
       "      <th>Front Shoulder (inches)</th>\n",
       "      <th>Front Leg Room (inches)</th>\n",
       "      <th>Front Head Room (inches)</th>\n",
       "      <th>Rear Shoulder (inches)</th>\n",
       "      <th>Rear Leg Room (inches)</th>\n",
       "      <th>Rear Head Room (inches)</th>\n",
       "    </tr>\n",
       "  </thead>\n",
       "  <tbody>\n",
       "    <tr>\n",
       "      <td>96</td>\n",
       "      <td>Toyota Corolla</td>\n",
       "      <td>Front</td>\n",
       "      <td>30</td>\n",
       "      <td>Regular</td>\n",
       "      <td>13.2</td>\n",
       "      <td>174</td>\n",
       "      <td>97</td>\n",
       "      <td>67</td>\n",
       "      <td>34</td>\n",
       "      <td>2530.0</td>\n",
       "      <td>49.0</td>\n",
       "      <td>12.0</td>\n",
       "      <td>53.0</td>\n",
       "      <td>40.0</td>\n",
       "      <td>4.0</td>\n",
       "      <td>52.0</td>\n",
       "      <td>24.5</td>\n",
       "      <td>1.0</td>\n",
       "    </tr>\n",
       "    <tr>\n",
       "      <td>97</td>\n",
       "      <td>Toyota Land Cruiser</td>\n",
       "      <td>Front</td>\n",
       "      <td>14</td>\n",
       "      <td>Premium</td>\n",
       "      <td>25.4</td>\n",
       "      <td>193</td>\n",
       "      <td>112</td>\n",
       "      <td>76</td>\n",
       "      <td>42</td>\n",
       "      <td>5435.0</td>\n",
       "      <td>66.5</td>\n",
       "      <td>50.0</td>\n",
       "      <td>61.5</td>\n",
       "      <td>40.0</td>\n",
       "      <td>3.5</td>\n",
       "      <td>61.0</td>\n",
       "      <td>29.0</td>\n",
       "      <td>4.5</td>\n",
       "    </tr>\n",
       "    <tr>\n",
       "      <td>98</td>\n",
       "      <td>Toyota RAV4</td>\n",
       "      <td>Front</td>\n",
       "      <td>22</td>\n",
       "      <td>Regular</td>\n",
       "      <td>15.3</td>\n",
       "      <td>163</td>\n",
       "      <td>95</td>\n",
       "      <td>67</td>\n",
       "      <td>38</td>\n",
       "      <td>3000.0</td>\n",
       "      <td>59.0</td>\n",
       "      <td>28.0</td>\n",
       "      <td>53.0</td>\n",
       "      <td>39.5</td>\n",
       "      <td>3.5</td>\n",
       "      <td>52.5</td>\n",
       "      <td>24.5</td>\n",
       "      <td>4.5</td>\n",
       "    </tr>\n",
       "    <tr>\n",
       "      <td>99</td>\n",
       "      <td>Toyota Sienna</td>\n",
       "      <td>Front</td>\n",
       "      <td>19</td>\n",
       "      <td>Regular</td>\n",
       "      <td>21.0</td>\n",
       "      <td>194</td>\n",
       "      <td>114</td>\n",
       "      <td>73</td>\n",
       "      <td>44</td>\n",
       "      <td>3990.0</td>\n",
       "      <td>60.5</td>\n",
       "      <td>63.5</td>\n",
       "      <td>60.0</td>\n",
       "      <td>41.5</td>\n",
       "      <td>6.5</td>\n",
       "      <td>62.0</td>\n",
       "      <td>33.0</td>\n",
       "      <td>4.5</td>\n",
       "    </tr>\n",
       "    <tr>\n",
       "      <td>100</td>\n",
       "      <td>Volkswagen Jetta</td>\n",
       "      <td>Front</td>\n",
       "      <td>21</td>\n",
       "      <td>Regular</td>\n",
       "      <td>14.5</td>\n",
       "      <td>172</td>\n",
       "      <td>99</td>\n",
       "      <td>68</td>\n",
       "      <td>36</td>\n",
       "      <td>2940.0</td>\n",
       "      <td>51.0</td>\n",
       "      <td>13.0</td>\n",
       "      <td>54.0</td>\n",
       "      <td>41.0</td>\n",
       "      <td>4.0</td>\n",
       "      <td>52.5</td>\n",
       "      <td>25.5</td>\n",
       "      <td>1.5</td>\n",
       "    </tr>\n",
       "    <tr>\n",
       "      <td>101</td>\n",
       "      <td>Volkswagen New Beetle</td>\n",
       "      <td>Front</td>\n",
       "      <td>29</td>\n",
       "      <td>Regular</td>\n",
       "      <td>14.5</td>\n",
       "      <td>161</td>\n",
       "      <td>99</td>\n",
       "      <td>68</td>\n",
       "      <td>36</td>\n",
       "      <td>2780.0</td>\n",
       "      <td>52.5</td>\n",
       "      <td>12.0</td>\n",
       "      <td>52.0</td>\n",
       "      <td>42.5</td>\n",
       "      <td>8.0</td>\n",
       "      <td>48.0</td>\n",
       "      <td>27.5</td>\n",
       "      <td>0.5</td>\n",
       "    </tr>\n",
       "    <tr>\n",
       "      <td>102</td>\n",
       "      <td>Volkswagen Passat</td>\n",
       "      <td>Front</td>\n",
       "      <td>24</td>\n",
       "      <td>Premium</td>\n",
       "      <td>16.4</td>\n",
       "      <td>184</td>\n",
       "      <td>106</td>\n",
       "      <td>69</td>\n",
       "      <td>38</td>\n",
       "      <td>3175.0</td>\n",
       "      <td>51.0</td>\n",
       "      <td>15.0</td>\n",
       "      <td>55.5</td>\n",
       "      <td>42.5</td>\n",
       "      <td>6.5</td>\n",
       "      <td>53.5</td>\n",
       "      <td>29.0</td>\n",
       "      <td>3.0</td>\n",
       "    </tr>\n",
       "    <tr>\n",
       "      <td>103</td>\n",
       "      <td>Volvo S40/V40</td>\n",
       "      <td>Front</td>\n",
       "      <td>22</td>\n",
       "      <td>Regular</td>\n",
       "      <td>15.8</td>\n",
       "      <td>176</td>\n",
       "      <td>100</td>\n",
       "      <td>68</td>\n",
       "      <td>38</td>\n",
       "      <td>2960.0</td>\n",
       "      <td>50.0</td>\n",
       "      <td>13.0</td>\n",
       "      <td>54.5</td>\n",
       "      <td>41.0</td>\n",
       "      <td>4.5</td>\n",
       "      <td>53.5</td>\n",
       "      <td>26.5</td>\n",
       "      <td>2.5</td>\n",
       "    </tr>\n",
       "    <tr>\n",
       "      <td>104</td>\n",
       "      <td>Volvo S70/V70</td>\n",
       "      <td>Front</td>\n",
       "      <td>21</td>\n",
       "      <td>Regular</td>\n",
       "      <td>18.5</td>\n",
       "      <td>186</td>\n",
       "      <td>105</td>\n",
       "      <td>69</td>\n",
       "      <td>38</td>\n",
       "      <td>3305.0</td>\n",
       "      <td>50.0</td>\n",
       "      <td>15.0</td>\n",
       "      <td>56.0</td>\n",
       "      <td>42.5</td>\n",
       "      <td>3.0</td>\n",
       "      <td>56.5</td>\n",
       "      <td>30.0</td>\n",
       "      <td>3.0</td>\n",
       "    </tr>\n",
       "    <tr>\n",
       "      <td>105</td>\n",
       "      <td>Volvo S80</td>\n",
       "      <td>Front</td>\n",
       "      <td>21</td>\n",
       "      <td>Regular</td>\n",
       "      <td>21.1</td>\n",
       "      <td>190</td>\n",
       "      <td>110</td>\n",
       "      <td>72</td>\n",
       "      <td>40</td>\n",
       "      <td>3630.0</td>\n",
       "      <td>51.5</td>\n",
       "      <td>14.0</td>\n",
       "      <td>58.5</td>\n",
       "      <td>41.5</td>\n",
       "      <td>3.5</td>\n",
       "      <td>56.5</td>\n",
       "      <td>28.5</td>\n",
       "      <td>4.0</td>\n",
       "    </tr>\n",
       "  </tbody>\n",
       "</table>\n",
       "</div>"
      ],
      "text/plain": [
       "                      Name Drive Type  Mileage (mpg) Fuel Type  \\\n",
       "96          Toyota Corolla      Front             30   Regular   \n",
       "97     Toyota Land Cruiser      Front             14   Premium   \n",
       "98             Toyota RAV4      Front             22   Regular   \n",
       "99           Toyota Sienna      Front             19   Regular   \n",
       "100       Volkswagen Jetta      Front             21   Regular   \n",
       "101  Volkswagen New Beetle      Front             29   Regular   \n",
       "102      Volkswagen Passat      Front             24   Premium   \n",
       "103          Volvo S40/V40      Front             22   Regular   \n",
       "104          Volvo S70/V70      Front             21   Regular   \n",
       "105              Volvo S80      Front             21   Regular   \n",
       "\n",
       "     Capacity (gal)  Length (inches)  Wheel Base (inches)  Width (inches)  \\\n",
       "96             13.2              174                   97              67   \n",
       "97             25.4              193                  112              76   \n",
       "98             15.3              163                   95              67   \n",
       "99             21.0              194                  114              73   \n",
       "100            14.5              172                   99              68   \n",
       "101            14.5              161                   99              68   \n",
       "102            16.4              184                  106              69   \n",
       "103            15.8              176                  100              68   \n",
       "104            18.5              186                  105              69   \n",
       "105            21.1              190                  110              72   \n",
       "\n",
       "     Turning Circle (feet)  Weight (lbs)  Door Top (inches)  \\\n",
       "96                      34        2530.0               49.0   \n",
       "97                      42        5435.0               66.5   \n",
       "98                      38        3000.0               59.0   \n",
       "99                      44        3990.0               60.5   \n",
       "100                     36        2940.0               51.0   \n",
       "101                     36        2780.0               52.5   \n",
       "102                     38        3175.0               51.0   \n",
       "103                     38        2960.0               50.0   \n",
       "104                     38        3305.0               50.0   \n",
       "105                     40        3630.0               51.5   \n",
       "\n",
       "     Luggage (cu. ft.)  Front Shoulder (inches)  Front Leg Room (inches)  \\\n",
       "96                12.0                     53.0                     40.0   \n",
       "97                50.0                     61.5                     40.0   \n",
       "98                28.0                     53.0                     39.5   \n",
       "99                63.5                     60.0                     41.5   \n",
       "100               13.0                     54.0                     41.0   \n",
       "101               12.0                     52.0                     42.5   \n",
       "102               15.0                     55.5                     42.5   \n",
       "103               13.0                     54.5                     41.0   \n",
       "104               15.0                     56.0                     42.5   \n",
       "105               14.0                     58.5                     41.5   \n",
       "\n",
       "     Front Head Room (inches)  Rear Shoulder (inches)  Rear Leg Room (inches)  \\\n",
       "96                        4.0                    52.0                    24.5   \n",
       "97                        3.5                    61.0                    29.0   \n",
       "98                        3.5                    52.5                    24.5   \n",
       "99                        6.5                    62.0                    33.0   \n",
       "100                       4.0                    52.5                    25.5   \n",
       "101                       8.0                    48.0                    27.5   \n",
       "102                       6.5                    53.5                    29.0   \n",
       "103                       4.5                    53.5                    26.5   \n",
       "104                       3.0                    56.5                    30.0   \n",
       "105                       3.5                    56.5                    28.5   \n",
       "\n",
       "     Rear Head Room (inches)  \n",
       "96                       1.0  \n",
       "97                       4.5  \n",
       "98                       4.5  \n",
       "99                       4.5  \n",
       "100                      1.5  \n",
       "101                      0.5  \n",
       "102                      3.0  \n",
       "103                      2.5  \n",
       "104                      3.0  \n",
       "105                      4.0  "
      ]
     },
     "execution_count": 489,
     "metadata": {},
     "output_type": "execute_result"
    }
   ],
   "source": [
    "auto= pd.read_csv(\"auto_data.csv\", encoding='latin1', engine='python',\n",
    "                   converters={'Weight (lbs)': convert_value\n",
    "                              })\n",
    "#auto.head(10)\n",
    "auto.tail(10)"
   ]
  },
  {
   "cell_type": "markdown",
   "metadata": {},
   "source": [
    "Let's check again the features types"
   ]
  },
  {
   "cell_type": "code",
   "execution_count": 490,
   "metadata": {},
   "outputs": [],
   "source": [
    "auto=pd.DataFrame(auto)\n",
    "auto[\"Weight (lbs)\"]=auto['Weight (lbs)'].astype('float')"
   ]
  },
  {
   "cell_type": "markdown",
   "metadata": {},
   "source": [
    "Finding the total number of rows and columns with the shape attribute"
   ]
  },
  {
   "cell_type": "code",
   "execution_count": 491,
   "metadata": {},
   "outputs": [
    {
     "data": {
      "text/plain": [
       "(106, 18)"
      ]
     },
     "execution_count": 491,
     "metadata": {},
     "output_type": "execute_result"
    }
   ],
   "source": [
    " auto.shape"
   ]
  },
  {
   "cell_type": "code",
   "execution_count": 492,
   "metadata": {},
   "outputs": [
    {
     "data": {
      "text/plain": [
       "Name                         object\n",
       "Drive Type                   object\n",
       "Mileage (mpg)                 int64\n",
       "Fuel Type                    object\n",
       "Capacity (gal)              float64\n",
       "Length (inches)               int64\n",
       "Wheel Base (inches)           int64\n",
       "Width (inches)                int64\n",
       "Turning Circle (feet)         int64\n",
       "Weight (lbs)                float64\n",
       "Door Top (inches)           float64\n",
       "Luggage (cu. ft.)           float64\n",
       "Front Shoulder (inches)     float64\n",
       "Front Leg Room (inches)     float64\n",
       "Front Head Room (inches)    float64\n",
       "Rear Shoulder (inches)      float64\n",
       "Rear Leg Room (inches)      float64\n",
       "Rear Head Room (inches)     float64\n",
       "dtype: object"
      ]
     },
     "execution_count": 492,
     "metadata": {},
     "output_type": "execute_result"
    }
   ],
   "source": [
    "auto.dtypes"
   ]
  },
  {
   "cell_type": "markdown",
   "metadata": {},
   "source": [
    "Finding variables with missing variables. The following functions gives for the number and percent of missing values of each column. "
   ]
  },
  {
   "cell_type": "code",
   "execution_count": 493,
   "metadata": {},
   "outputs": [],
   "source": [
    "def assess_NA(data):\n",
    "    \"\"\"\n",
    "    Returns a pandas dataframe denoting the total number of NA values and the percentage of NA values in each column.\n",
    "    The column names are noted on the index.\n",
    "    \n",
    "    \"\"\"\n",
    "    # pandas series denoting features and the sum of their null values\n",
    "    null_sum = data.isnull().sum()# instantiate columns for missing data\n",
    "    total = null_sum.sort_values(ascending=False)\n",
    "    percent = ( ((null_sum / len(data.index))*100).round(2) ).sort_values(ascending=False)\n",
    "    \n",
    "    # concatenate along the columns to create the complete dataframe\n",
    "    df_NA = pd.concat([total, percent], axis=1, keys=['Number of NA', 'Percent NA'])\n",
    "    \n",
    "    # drop rows that don't have any missing data; omit if you want to keep all rows\n",
    "    df_NA = df_NA[ (df_NA.T != 0).any() ]\n",
    "    \n",
    "    return df_NA"
   ]
  },
  {
   "cell_type": "code",
   "execution_count": 494,
   "metadata": {},
   "outputs": [
    {
     "data": {
      "text/html": [
       "<div>\n",
       "<style scoped>\n",
       "    .dataframe tbody tr th:only-of-type {\n",
       "        vertical-align: middle;\n",
       "    }\n",
       "\n",
       "    .dataframe tbody tr th {\n",
       "        vertical-align: top;\n",
       "    }\n",
       "\n",
       "    .dataframe thead th {\n",
       "        text-align: right;\n",
       "    }\n",
       "</style>\n",
       "<table border=\"1\" class=\"dataframe\">\n",
       "  <thead>\n",
       "    <tr style=\"text-align: right;\">\n",
       "      <th></th>\n",
       "      <th>Number of NA</th>\n",
       "      <th>Percent NA</th>\n",
       "    </tr>\n",
       "  </thead>\n",
       "  <tbody>\n",
       "    <tr>\n",
       "      <td>Luggage (cu. ft.)</td>\n",
       "      <td>2</td>\n",
       "      <td>1.89</td>\n",
       "    </tr>\n",
       "  </tbody>\n",
       "</table>\n",
       "</div>"
      ],
      "text/plain": [
       "                   Number of NA  Percent NA\n",
       "Luggage (cu. ft.)             2        1.89"
      ]
     },
     "execution_count": 494,
     "metadata": {},
     "output_type": "execute_result"
    }
   ],
   "source": [
    "df_NA=assess_NA(auto)\n",
    "df_NA"
   ]
  },
  {
   "cell_type": "markdown",
   "metadata": {},
   "source": [
    "It comes out only the variable \"luggage\" has two missing records that which  we will replace by median of the feature"
   ]
  },
  {
   "cell_type": "markdown",
   "metadata": {},
   "source": [
    "##### 2.\tReplace any missing values with the median value of the column."
   ]
  },
  {
   "cell_type": "code",
   "execution_count": 495,
   "metadata": {},
   "outputs": [],
   "source": [
    "# Impute with median on \n",
    "auto= auto.fillna(auto.median())\n",
    "#auto"
   ]
  },
  {
   "cell_type": "markdown",
   "metadata": {},
   "source": [
    "Now the auto dataset is cleaned. "
   ]
  },
  {
   "cell_type": "code",
   "execution_count": 496,
   "metadata": {},
   "outputs": [
    {
     "data": {
      "text/html": [
       "<div>\n",
       "<style scoped>\n",
       "    .dataframe tbody tr th:only-of-type {\n",
       "        vertical-align: middle;\n",
       "    }\n",
       "\n",
       "    .dataframe tbody tr th {\n",
       "        vertical-align: top;\n",
       "    }\n",
       "\n",
       "    .dataframe thead th {\n",
       "        text-align: right;\n",
       "    }\n",
       "</style>\n",
       "<table border=\"1\" class=\"dataframe\">\n",
       "  <thead>\n",
       "    <tr style=\"text-align: right;\">\n",
       "      <th></th>\n",
       "      <th>Name</th>\n",
       "      <th>Drive Type</th>\n",
       "      <th>Mileage (mpg)</th>\n",
       "      <th>Fuel Type</th>\n",
       "      <th>Capacity (gal)</th>\n",
       "      <th>Length (inches)</th>\n",
       "      <th>Wheel Base (inches)</th>\n",
       "      <th>Width (inches)</th>\n",
       "      <th>Turning Circle (feet)</th>\n",
       "      <th>Weight (lbs)</th>\n",
       "      <th>Door Top (inches)</th>\n",
       "      <th>Luggage (cu. ft.)</th>\n",
       "      <th>Front Shoulder (inches)</th>\n",
       "      <th>Front Leg Room (inches)</th>\n",
       "      <th>Front Head Room (inches)</th>\n",
       "      <th>Rear Shoulder (inches)</th>\n",
       "      <th>Rear Leg Room (inches)</th>\n",
       "      <th>Rear Head Room (inches)</th>\n",
       "    </tr>\n",
       "  </thead>\n",
       "  <tbody>\n",
       "    <tr>\n",
       "      <td>0</td>\n",
       "      <td>Acura Integra</td>\n",
       "      <td>Front</td>\n",
       "      <td>31</td>\n",
       "      <td>Regular</td>\n",
       "      <td>13.2</td>\n",
       "      <td>172</td>\n",
       "      <td>101</td>\n",
       "      <td>67</td>\n",
       "      <td>39</td>\n",
       "      <td>2635.0</td>\n",
       "      <td>47.5</td>\n",
       "      <td>13.0</td>\n",
       "      <td>51.5</td>\n",
       "      <td>41.5</td>\n",
       "      <td>2.0</td>\n",
       "      <td>46.5</td>\n",
       "      <td>25.0</td>\n",
       "      <td>0.5</td>\n",
       "    </tr>\n",
       "    <tr>\n",
       "      <td>1</td>\n",
       "      <td>Acura TL</td>\n",
       "      <td>Front</td>\n",
       "      <td>22</td>\n",
       "      <td>Premium</td>\n",
       "      <td>17.1</td>\n",
       "      <td>193</td>\n",
       "      <td>108</td>\n",
       "      <td>70</td>\n",
       "      <td>40</td>\n",
       "      <td>3460.0</td>\n",
       "      <td>50.0</td>\n",
       "      <td>14.0</td>\n",
       "      <td>56.0</td>\n",
       "      <td>40.5</td>\n",
       "      <td>2.5</td>\n",
       "      <td>55.0</td>\n",
       "      <td>27.0</td>\n",
       "      <td>2.0</td>\n",
       "    </tr>\n",
       "    <tr>\n",
       "      <td>2</td>\n",
       "      <td>Audi A4</td>\n",
       "      <td>Front</td>\n",
       "      <td>22</td>\n",
       "      <td>Premium</td>\n",
       "      <td>15.9</td>\n",
       "      <td>178</td>\n",
       "      <td>103</td>\n",
       "      <td>68</td>\n",
       "      <td>36</td>\n",
       "      <td>3345.0</td>\n",
       "      <td>50.5</td>\n",
       "      <td>14.0</td>\n",
       "      <td>54.0</td>\n",
       "      <td>40.5</td>\n",
       "      <td>3.5</td>\n",
       "      <td>52.0</td>\n",
       "      <td>24.5</td>\n",
       "      <td>2.0</td>\n",
       "    </tr>\n",
       "    <tr>\n",
       "      <td>3</td>\n",
       "      <td>Audi A6</td>\n",
       "      <td>Front</td>\n",
       "      <td>20</td>\n",
       "      <td>Premium</td>\n",
       "      <td>18.5</td>\n",
       "      <td>192</td>\n",
       "      <td>109</td>\n",
       "      <td>71</td>\n",
       "      <td>39</td>\n",
       "      <td>3785.0</td>\n",
       "      <td>51.0</td>\n",
       "      <td>15.0</td>\n",
       "      <td>55.0</td>\n",
       "      <td>42.0</td>\n",
       "      <td>4.0</td>\n",
       "      <td>55.0</td>\n",
       "      <td>30.0</td>\n",
       "      <td>3.5</td>\n",
       "    </tr>\n",
       "    <tr>\n",
       "      <td>4</td>\n",
       "      <td>BMW 3-Series</td>\n",
       "      <td>Rear</td>\n",
       "      <td>24</td>\n",
       "      <td>Premium</td>\n",
       "      <td>16.6</td>\n",
       "      <td>176</td>\n",
       "      <td>107</td>\n",
       "      <td>69</td>\n",
       "      <td>36</td>\n",
       "      <td>3265.0</td>\n",
       "      <td>50.0</td>\n",
       "      <td>11.0</td>\n",
       "      <td>55.0</td>\n",
       "      <td>41.5</td>\n",
       "      <td>3.5</td>\n",
       "      <td>54.0</td>\n",
       "      <td>26.0</td>\n",
       "      <td>3.0</td>\n",
       "    </tr>\n",
       "  </tbody>\n",
       "</table>\n",
       "</div>"
      ],
      "text/plain": [
       "            Name Drive Type  Mileage (mpg) Fuel Type  Capacity (gal)  \\\n",
       "0  Acura Integra      Front             31   Regular            13.2   \n",
       "1       Acura TL      Front             22   Premium            17.1   \n",
       "2        Audi A4      Front             22   Premium            15.9   \n",
       "3        Audi A6      Front             20   Premium            18.5   \n",
       "4   BMW 3-Series       Rear             24   Premium            16.6   \n",
       "\n",
       "   Length (inches)  Wheel Base (inches)  Width (inches)  \\\n",
       "0              172                  101              67   \n",
       "1              193                  108              70   \n",
       "2              178                  103              68   \n",
       "3              192                  109              71   \n",
       "4              176                  107              69   \n",
       "\n",
       "   Turning Circle (feet)  Weight (lbs)  Door Top (inches)  Luggage (cu. ft.)  \\\n",
       "0                     39        2635.0               47.5               13.0   \n",
       "1                     40        3460.0               50.0               14.0   \n",
       "2                     36        3345.0               50.5               14.0   \n",
       "3                     39        3785.0               51.0               15.0   \n",
       "4                     36        3265.0               50.0               11.0   \n",
       "\n",
       "   Front Shoulder (inches)  Front Leg Room (inches)  Front Head Room (inches)  \\\n",
       "0                     51.5                     41.5                       2.0   \n",
       "1                     56.0                     40.5                       2.5   \n",
       "2                     54.0                     40.5                       3.5   \n",
       "3                     55.0                     42.0                       4.0   \n",
       "4                     55.0                     41.5                       3.5   \n",
       "\n",
       "   Rear Shoulder (inches)  Rear Leg Room (inches)  Rear Head Room (inches)  \n",
       "0                    46.5                    25.0                      0.5  \n",
       "1                    55.0                    27.0                      2.0  \n",
       "2                    52.0                    24.5                      2.0  \n",
       "3                    55.0                    30.0                      3.5  \n",
       "4                    54.0                    26.0                      3.0  "
      ]
     },
     "execution_count": 496,
     "metadata": {},
     "output_type": "execute_result"
    }
   ],
   "source": [
    "auto.head()"
   ]
  },
  {
   "cell_type": "markdown",
   "metadata": {},
   "source": [
    "#### 3.\tExploring the general characteristics of the data, by computing the means and standard deviations of the numerical attributes, as well as the distributions of “drive type” and “fuel type” (categorical)."
   ]
  },
  {
   "cell_type": "code",
   "execution_count": 497,
   "metadata": {},
   "outputs": [
    {
     "data": {
      "text/html": [
       "<div>\n",
       "<style scoped>\n",
       "    .dataframe tbody tr th:only-of-type {\n",
       "        vertical-align: middle;\n",
       "    }\n",
       "\n",
       "    .dataframe tbody tr th {\n",
       "        vertical-align: top;\n",
       "    }\n",
       "\n",
       "    .dataframe thead th {\n",
       "        text-align: right;\n",
       "    }\n",
       "</style>\n",
       "<table border=\"1\" class=\"dataframe\">\n",
       "  <thead>\n",
       "    <tr style=\"text-align: right;\">\n",
       "      <th></th>\n",
       "      <th>Mileage (mpg)</th>\n",
       "      <th>Capacity (gal)</th>\n",
       "      <th>Length (inches)</th>\n",
       "      <th>Wheel Base (inches)</th>\n",
       "      <th>Width (inches)</th>\n",
       "      <th>Turning Circle (feet)</th>\n",
       "      <th>Weight (lbs)</th>\n",
       "      <th>Door Top (inches)</th>\n",
       "      <th>Luggage (cu. ft.)</th>\n",
       "      <th>Front Shoulder (inches)</th>\n",
       "      <th>Front Leg Room (inches)</th>\n",
       "      <th>Front Head Room (inches)</th>\n",
       "      <th>Rear Shoulder (inches)</th>\n",
       "      <th>Rear Leg Room (inches)</th>\n",
       "      <th>Rear Head Room (inches)</th>\n",
       "    </tr>\n",
       "  </thead>\n",
       "  <tbody>\n",
       "    <tr>\n",
       "      <td>count</td>\n",
       "      <td>106.000000</td>\n",
       "      <td>106.000000</td>\n",
       "      <td>106.000000</td>\n",
       "      <td>106.000000</td>\n",
       "      <td>106.000000</td>\n",
       "      <td>106.000000</td>\n",
       "      <td>106.000000</td>\n",
       "      <td>106.000000</td>\n",
       "      <td>106.000000</td>\n",
       "      <td>106.000000</td>\n",
       "      <td>106.000000</td>\n",
       "      <td>106.000000</td>\n",
       "      <td>106.000000</td>\n",
       "      <td>106.000000</td>\n",
       "      <td>106.000000</td>\n",
       "    </tr>\n",
       "    <tr>\n",
       "      <td>mean</td>\n",
       "      <td>21.292453</td>\n",
       "      <td>17.883019</td>\n",
       "      <td>187.594340</td>\n",
       "      <td>107.632075</td>\n",
       "      <td>70.915094</td>\n",
       "      <td>39.849057</td>\n",
       "      <td>3502.311321</td>\n",
       "      <td>53.891509</td>\n",
       "      <td>25.056604</td>\n",
       "      <td>56.471698</td>\n",
       "      <td>41.254717</td>\n",
       "      <td>4.287736</td>\n",
       "      <td>54.745283</td>\n",
       "      <td>28.363208</td>\n",
       "      <td>3.023585</td>\n",
       "    </tr>\n",
       "    <tr>\n",
       "      <td>std</td>\n",
       "      <td>3.769469</td>\n",
       "      <td>3.425714</td>\n",
       "      <td>12.493639</td>\n",
       "      <td>7.014713</td>\n",
       "      <td>3.237041</td>\n",
       "      <td>2.797252</td>\n",
       "      <td>633.453939</td>\n",
       "      <td>5.747465</td>\n",
       "      <td>18.235538</td>\n",
       "      <td>3.041640</td>\n",
       "      <td>1.021775</td>\n",
       "      <td>1.279784</td>\n",
       "      <td>7.110437</td>\n",
       "      <td>2.196895</td>\n",
       "      <td>1.370405</td>\n",
       "    </tr>\n",
       "    <tr>\n",
       "      <td>min</td>\n",
       "      <td>13.000000</td>\n",
       "      <td>12.100000</td>\n",
       "      <td>152.000000</td>\n",
       "      <td>93.000000</td>\n",
       "      <td>66.000000</td>\n",
       "      <td>34.000000</td>\n",
       "      <td>2420.000000</td>\n",
       "      <td>46.500000</td>\n",
       "      <td>10.000000</td>\n",
       "      <td>51.500000</td>\n",
       "      <td>39.000000</td>\n",
       "      <td>1.500000</td>\n",
       "      <td>6.500000</td>\n",
       "      <td>22.500000</td>\n",
       "      <td>0.000000</td>\n",
       "    </tr>\n",
       "    <tr>\n",
       "      <td>25%</td>\n",
       "      <td>19.000000</td>\n",
       "      <td>15.825000</td>\n",
       "      <td>178.000000</td>\n",
       "      <td>103.000000</td>\n",
       "      <td>68.000000</td>\n",
       "      <td>38.000000</td>\n",
       "      <td>3106.250000</td>\n",
       "      <td>50.000000</td>\n",
       "      <td>14.000000</td>\n",
       "      <td>54.000000</td>\n",
       "      <td>40.500000</td>\n",
       "      <td>3.500000</td>\n",
       "      <td>52.625000</td>\n",
       "      <td>27.000000</td>\n",
       "      <td>2.000000</td>\n",
       "    </tr>\n",
       "    <tr>\n",
       "      <td>50%</td>\n",
       "      <td>21.000000</td>\n",
       "      <td>17.400000</td>\n",
       "      <td>188.000000</td>\n",
       "      <td>107.000000</td>\n",
       "      <td>70.000000</td>\n",
       "      <td>40.000000</td>\n",
       "      <td>3395.000000</td>\n",
       "      <td>51.000000</td>\n",
       "      <td>16.000000</td>\n",
       "      <td>56.000000</td>\n",
       "      <td>41.000000</td>\n",
       "      <td>4.500000</td>\n",
       "      <td>56.000000</td>\n",
       "      <td>28.500000</td>\n",
       "      <td>3.000000</td>\n",
       "    </tr>\n",
       "    <tr>\n",
       "      <td>75%</td>\n",
       "      <td>23.000000</td>\n",
       "      <td>19.000000</td>\n",
       "      <td>195.000000</td>\n",
       "      <td>112.000000</td>\n",
       "      <td>73.000000</td>\n",
       "      <td>41.000000</td>\n",
       "      <td>3890.000000</td>\n",
       "      <td>60.000000</td>\n",
       "      <td>30.750000</td>\n",
       "      <td>58.500000</td>\n",
       "      <td>42.000000</td>\n",
       "      <td>5.000000</td>\n",
       "      <td>57.000000</td>\n",
       "      <td>30.000000</td>\n",
       "      <td>4.000000</td>\n",
       "    </tr>\n",
       "    <tr>\n",
       "      <td>max</td>\n",
       "      <td>31.000000</td>\n",
       "      <td>30.000000</td>\n",
       "      <td>226.000000</td>\n",
       "      <td>139.000000</td>\n",
       "      <td>80.000000</td>\n",
       "      <td>49.000000</td>\n",
       "      <td>5850.000000</td>\n",
       "      <td>70.500000</td>\n",
       "      <td>76.000000</td>\n",
       "      <td>63.500000</td>\n",
       "      <td>44.000000</td>\n",
       "      <td>8.000000</td>\n",
       "      <td>64.500000</td>\n",
       "      <td>34.000000</td>\n",
       "      <td>6.000000</td>\n",
       "    </tr>\n",
       "  </tbody>\n",
       "</table>\n",
       "</div>"
      ],
      "text/plain": [
       "       Mileage (mpg)  Capacity (gal)  Length (inches)  Wheel Base (inches)  \\\n",
       "count     106.000000      106.000000       106.000000           106.000000   \n",
       "mean       21.292453       17.883019       187.594340           107.632075   \n",
       "std         3.769469        3.425714        12.493639             7.014713   \n",
       "min        13.000000       12.100000       152.000000            93.000000   \n",
       "25%        19.000000       15.825000       178.000000           103.000000   \n",
       "50%        21.000000       17.400000       188.000000           107.000000   \n",
       "75%        23.000000       19.000000       195.000000           112.000000   \n",
       "max        31.000000       30.000000       226.000000           139.000000   \n",
       "\n",
       "       Width (inches)  Turning Circle (feet)  Weight (lbs)  Door Top (inches)  \\\n",
       "count      106.000000             106.000000    106.000000         106.000000   \n",
       "mean        70.915094              39.849057   3502.311321          53.891509   \n",
       "std          3.237041               2.797252    633.453939           5.747465   \n",
       "min         66.000000              34.000000   2420.000000          46.500000   \n",
       "25%         68.000000              38.000000   3106.250000          50.000000   \n",
       "50%         70.000000              40.000000   3395.000000          51.000000   \n",
       "75%         73.000000              41.000000   3890.000000          60.000000   \n",
       "max         80.000000              49.000000   5850.000000          70.500000   \n",
       "\n",
       "       Luggage (cu. ft.)  Front Shoulder (inches)  Front Leg Room (inches)  \\\n",
       "count         106.000000               106.000000               106.000000   \n",
       "mean           25.056604                56.471698                41.254717   \n",
       "std            18.235538                 3.041640                 1.021775   \n",
       "min            10.000000                51.500000                39.000000   \n",
       "25%            14.000000                54.000000                40.500000   \n",
       "50%            16.000000                56.000000                41.000000   \n",
       "75%            30.750000                58.500000                42.000000   \n",
       "max            76.000000                63.500000                44.000000   \n",
       "\n",
       "       Front Head Room (inches)  Rear Shoulder (inches)  \\\n",
       "count                106.000000              106.000000   \n",
       "mean                   4.287736               54.745283   \n",
       "std                    1.279784                7.110437   \n",
       "min                    1.500000                6.500000   \n",
       "25%                    3.500000               52.625000   \n",
       "50%                    4.500000               56.000000   \n",
       "75%                    5.000000               57.000000   \n",
       "max                    8.000000               64.500000   \n",
       "\n",
       "       Rear Leg Room (inches)  Rear Head Room (inches)  \n",
       "count              106.000000               106.000000  \n",
       "mean                28.363208                 3.023585  \n",
       "std                  2.196895                 1.370405  \n",
       "min                 22.500000                 0.000000  \n",
       "25%                 27.000000                 2.000000  \n",
       "50%                 28.500000                 3.000000  \n",
       "75%                 30.000000                 4.000000  \n",
       "max                 34.000000                 6.000000  "
      ]
     },
     "execution_count": 497,
     "metadata": {},
     "output_type": "execute_result"
    }
   ],
   "source": [
    "auto.describe()"
   ]
  },
  {
   "cell_type": "markdown",
   "metadata": {},
   "source": [
    "#### Exploratory Data Analysis:"
   ]
  },
  {
   "cell_type": "code",
   "execution_count": 498,
   "metadata": {},
   "outputs": [
    {
     "data": {
      "text/plain": [
       "Mileage (mpg)                 21.292453\n",
       "Capacity (gal)                17.883019\n",
       "Length (inches)              187.594340\n",
       "Wheel Base (inches)          107.632075\n",
       "Width (inches)                70.915094\n",
       "Turning Circle (feet)         39.849057\n",
       "Weight (lbs)                3502.311321\n",
       "Door Top (inches)             53.891509\n",
       "Luggage (cu. ft.)             25.056604\n",
       "Front Shoulder (inches)       56.471698\n",
       "Front Leg Room (inches)       41.254717\n",
       "Front Head Room (inches)       4.287736\n",
       "Rear Shoulder (inches)        54.745283\n",
       "Rear Leg Room (inches)        28.363208\n",
       "Rear Head Room (inches)        3.023585\n",
       "dtype: float64"
      ]
     },
     "execution_count": 498,
     "metadata": {},
     "output_type": "execute_result"
    }
   ],
   "source": [
    "#mean of dataframe\n",
    "auto.mean()"
   ]
  },
  {
   "cell_type": "code",
   "execution_count": 499,
   "metadata": {},
   "outputs": [],
   "source": [
    "#shorten the Weight name \n",
    "auto_Weight=auto['Weight (lbs)']"
   ]
  },
  {
   "cell_type": "code",
   "execution_count": 500,
   "metadata": {},
   "outputs": [
    {
     "name": "stdout",
     "output_type": "stream",
     "text": [
      "2420.0\n",
      "5850.0\n",
      "633.4539388404849\n",
      "3502.311320754717\n"
     ]
    }
   ],
   "source": [
    "#Example, descriptive statistics for the variable weight(lbs)\n",
    "print(auto_Weight.min()),\n",
    "print(auto_Weight.max()),\n",
    "print(auto_Weight.std()),\n",
    "print(auto_Weight.mean())"
   ]
  },
  {
   "cell_type": "code",
   "execution_count": 501,
   "metadata": {
    "scrolled": true
   },
   "outputs": [
    {
     "data": {
      "text/plain": [
       "Drive Type\n",
       "Front    81\n",
       "Rear     25\n",
       "dtype: int64"
      ]
     },
     "execution_count": 501,
     "metadata": {},
     "output_type": "execute_result"
    }
   ],
   "source": [
    "#using pandas, count by category drive type.\n",
    "auto.groupby('Drive Type').size()"
   ]
  },
  {
   "cell_type": "code",
   "execution_count": 502,
   "metadata": {},
   "outputs": [
    {
     "data": {
      "text/plain": [
       "Fuel Type\n",
       "Premium    19\n",
       "Regular    87\n",
       "dtype: int64"
      ]
     },
     "execution_count": 502,
     "metadata": {},
     "output_type": "execute_result"
    }
   ],
   "source": [
    "#using pandas, count by category fuel type.\n",
    "auto.groupby('Fuel Type').size()"
   ]
  },
  {
   "cell_type": "markdown",
   "metadata": {},
   "source": [
    "#### 4. Using z-score normalization to standardize the values of the Weight attribute."
   ]
  },
  {
   "cell_type": "code",
   "execution_count": 503,
   "metadata": {},
   "outputs": [],
   "source": [
    "auto_Weight=auto['Weight (lbs)']"
   ]
  },
  {
   "cell_type": "code",
   "execution_count": 504,
   "metadata": {},
   "outputs": [
    {
     "data": {
      "text/html": [
       "<div>\n",
       "<style scoped>\n",
       "    .dataframe tbody tr th:only-of-type {\n",
       "        vertical-align: middle;\n",
       "    }\n",
       "\n",
       "    .dataframe tbody tr th {\n",
       "        vertical-align: top;\n",
       "    }\n",
       "\n",
       "    .dataframe thead th {\n",
       "        text-align: right;\n",
       "    }\n",
       "</style>\n",
       "<table border=\"1\" class=\"dataframe\">\n",
       "  <thead>\n",
       "    <tr style=\"text-align: right;\">\n",
       "      <th></th>\n",
       "      <th>Weight (lbs)</th>\n",
       "    </tr>\n",
       "  </thead>\n",
       "  <tbody>\n",
       "    <tr>\n",
       "      <td>0</td>\n",
       "      <td>-1.369178</td>\n",
       "    </tr>\n",
       "    <tr>\n",
       "      <td>1</td>\n",
       "      <td>-0.066795</td>\n",
       "    </tr>\n",
       "    <tr>\n",
       "      <td>2</td>\n",
       "      <td>-0.248339</td>\n",
       "    </tr>\n",
       "    <tr>\n",
       "      <td>3</td>\n",
       "      <td>0.446266</td>\n",
       "    </tr>\n",
       "    <tr>\n",
       "      <td>4</td>\n",
       "      <td>-0.374631</td>\n",
       "    </tr>\n",
       "    <tr>\n",
       "      <td>5</td>\n",
       "      <td>0.130536</td>\n",
       "    </tr>\n",
       "    <tr>\n",
       "      <td>6</td>\n",
       "      <td>-0.240446</td>\n",
       "    </tr>\n",
       "    <tr>\n",
       "      <td>7</td>\n",
       "      <td>0.217362</td>\n",
       "    </tr>\n",
       "    <tr>\n",
       "      <td>8</td>\n",
       "      <td>0.596237</td>\n",
       "    </tr>\n",
       "    <tr>\n",
       "      <td>9</td>\n",
       "      <td>-0.279912</td>\n",
       "    </tr>\n",
       "  </tbody>\n",
       "</table>\n",
       "</div>"
      ],
      "text/plain": [
       "   Weight (lbs)\n",
       "0     -1.369178\n",
       "1     -0.066795\n",
       "2     -0.248339\n",
       "3      0.446266\n",
       "4     -0.374631\n",
       "5      0.130536\n",
       "6     -0.240446\n",
       "7      0.217362\n",
       "8      0.596237\n",
       "9     -0.279912"
      ]
     },
     "execution_count": 504,
     "metadata": {},
     "output_type": "execute_result"
    }
   ],
   "source": [
    "#Transform to Z-Scores of the Weight attribute\n",
    "weight_z=pd.DataFrame((auto_Weight-auto_Weight.mean())/auto_Weight.std())\n",
    "weight_z.head(10)"
   ]
  },
  {
   "cell_type": "code",
   "execution_count": 505,
   "metadata": {
    "scrolled": true
   },
   "outputs": [
    {
     "data": {
      "image/png": "[encoded data removed]",
      "text/plain": [
       "<Figure size 792x288 with 2 Axes>"
      ]
     },
     "metadata": {
      "needs_background": "light"
     },
     "output_type": "display_data"
    }
   ],
   "source": [
    "plt.figure(figsize = (11,4))\n",
    "plt.subplot(1,2,1)\n",
    "sn.distplot(auto['Weight (lbs)'])\n",
    "plt.title('Original Weight attribute', fontsize=18)\n",
    "plt.subplot(1,2,2)\n",
    "sn.distplot(weight_z, color=\"y\")\n",
    "plt.xlabel('Weight (lbs)')\n",
    "plt.title('Z-Score Normalization', fontsize=18)\n",
    "\n",
    "\n",
    "plt.show()"
   ]
  },
  {
   "cell_type": "markdown",
   "metadata": {},
   "source": [
    "#### 5.\tConvert the categorical variables into dummies.\n",
    "\n",
    "This means to convert each categorical attribute into multiple attributes (dummies) and assigning binary values corresponding to the presence or not presence of the attribute value in the original record. "
   ]
  },
  {
   "cell_type": "code",
   "execution_count": 506,
   "metadata": {},
   "outputs": [
    {
     "data": {
      "text/html": [
       "<div>\n",
       "<style scoped>\n",
       "    .dataframe tbody tr th:only-of-type {\n",
       "        vertical-align: middle;\n",
       "    }\n",
       "\n",
       "    .dataframe tbody tr th {\n",
       "        vertical-align: top;\n",
       "    }\n",
       "\n",
       "    .dataframe thead th {\n",
       "        text-align: right;\n",
       "    }\n",
       "</style>\n",
       "<table border=\"1\" class=\"dataframe\">\n",
       "  <thead>\n",
       "    <tr style=\"text-align: right;\">\n",
       "      <th></th>\n",
       "      <th>Name</th>\n",
       "      <th>Mileage (mpg)</th>\n",
       "      <th>Capacity (gal)</th>\n",
       "      <th>Length (inches)</th>\n",
       "      <th>Wheel Base (inches)</th>\n",
       "      <th>Width (inches)</th>\n",
       "      <th>Turning Circle (feet)</th>\n",
       "      <th>Weight (lbs)</th>\n",
       "      <th>Door Top (inches)</th>\n",
       "      <th>Luggage (cu. ft.)</th>\n",
       "      <th>Front Shoulder (inches)</th>\n",
       "      <th>Front Leg Room (inches)</th>\n",
       "      <th>Front Head Room (inches)</th>\n",
       "      <th>Rear Shoulder (inches)</th>\n",
       "      <th>Rear Leg Room (inches)</th>\n",
       "      <th>Rear Head Room (inches)</th>\n",
       "      <th>Drive Type_Front</th>\n",
       "      <th>Drive Type_Rear</th>\n",
       "      <th>Fuel Type_Premium</th>\n",
       "      <th>Fuel Type_Regular</th>\n",
       "    </tr>\n",
       "  </thead>\n",
       "  <tbody>\n",
       "    <tr>\n",
       "      <td>0</td>\n",
       "      <td>Acura Integra</td>\n",
       "      <td>31</td>\n",
       "      <td>13.2</td>\n",
       "      <td>172</td>\n",
       "      <td>101</td>\n",
       "      <td>67</td>\n",
       "      <td>39</td>\n",
       "      <td>2635.0</td>\n",
       "      <td>47.5</td>\n",
       "      <td>13.0</td>\n",
       "      <td>51.5</td>\n",
       "      <td>41.5</td>\n",
       "      <td>2.0</td>\n",
       "      <td>46.5</td>\n",
       "      <td>25.0</td>\n",
       "      <td>0.5</td>\n",
       "      <td>1</td>\n",
       "      <td>0</td>\n",
       "      <td>0</td>\n",
       "      <td>1</td>\n",
       "    </tr>\n",
       "    <tr>\n",
       "      <td>1</td>\n",
       "      <td>Acura TL</td>\n",
       "      <td>22</td>\n",
       "      <td>17.1</td>\n",
       "      <td>193</td>\n",
       "      <td>108</td>\n",
       "      <td>70</td>\n",
       "      <td>40</td>\n",
       "      <td>3460.0</td>\n",
       "      <td>50.0</td>\n",
       "      <td>14.0</td>\n",
       "      <td>56.0</td>\n",
       "      <td>40.5</td>\n",
       "      <td>2.5</td>\n",
       "      <td>55.0</td>\n",
       "      <td>27.0</td>\n",
       "      <td>2.0</td>\n",
       "      <td>1</td>\n",
       "      <td>0</td>\n",
       "      <td>1</td>\n",
       "      <td>0</td>\n",
       "    </tr>\n",
       "    <tr>\n",
       "      <td>2</td>\n",
       "      <td>Audi A4</td>\n",
       "      <td>22</td>\n",
       "      <td>15.9</td>\n",
       "      <td>178</td>\n",
       "      <td>103</td>\n",
       "      <td>68</td>\n",
       "      <td>36</td>\n",
       "      <td>3345.0</td>\n",
       "      <td>50.5</td>\n",
       "      <td>14.0</td>\n",
       "      <td>54.0</td>\n",
       "      <td>40.5</td>\n",
       "      <td>3.5</td>\n",
       "      <td>52.0</td>\n",
       "      <td>24.5</td>\n",
       "      <td>2.0</td>\n",
       "      <td>1</td>\n",
       "      <td>0</td>\n",
       "      <td>1</td>\n",
       "      <td>0</td>\n",
       "    </tr>\n",
       "    <tr>\n",
       "      <td>3</td>\n",
       "      <td>Audi A6</td>\n",
       "      <td>20</td>\n",
       "      <td>18.5</td>\n",
       "      <td>192</td>\n",
       "      <td>109</td>\n",
       "      <td>71</td>\n",
       "      <td>39</td>\n",
       "      <td>3785.0</td>\n",
       "      <td>51.0</td>\n",
       "      <td>15.0</td>\n",
       "      <td>55.0</td>\n",
       "      <td>42.0</td>\n",
       "      <td>4.0</td>\n",
       "      <td>55.0</td>\n",
       "      <td>30.0</td>\n",
       "      <td>3.5</td>\n",
       "      <td>1</td>\n",
       "      <td>0</td>\n",
       "      <td>1</td>\n",
       "      <td>0</td>\n",
       "    </tr>\n",
       "    <tr>\n",
       "      <td>4</td>\n",
       "      <td>BMW 3-Series</td>\n",
       "      <td>24</td>\n",
       "      <td>16.6</td>\n",
       "      <td>176</td>\n",
       "      <td>107</td>\n",
       "      <td>69</td>\n",
       "      <td>36</td>\n",
       "      <td>3265.0</td>\n",
       "      <td>50.0</td>\n",
       "      <td>11.0</td>\n",
       "      <td>55.0</td>\n",
       "      <td>41.5</td>\n",
       "      <td>3.5</td>\n",
       "      <td>54.0</td>\n",
       "      <td>26.0</td>\n",
       "      <td>3.0</td>\n",
       "      <td>0</td>\n",
       "      <td>1</td>\n",
       "      <td>1</td>\n",
       "      <td>0</td>\n",
       "    </tr>\n",
       "    <tr>\n",
       "      <td>5</td>\n",
       "      <td>BMW 5-Series</td>\n",
       "      <td>20</td>\n",
       "      <td>18.5</td>\n",
       "      <td>188</td>\n",
       "      <td>111</td>\n",
       "      <td>71</td>\n",
       "      <td>38</td>\n",
       "      <td>3585.0</td>\n",
       "      <td>51.0</td>\n",
       "      <td>11.0</td>\n",
       "      <td>57.0</td>\n",
       "      <td>43.0</td>\n",
       "      <td>3.5</td>\n",
       "      <td>55.0</td>\n",
       "      <td>29.0</td>\n",
       "      <td>3.5</td>\n",
       "      <td>0</td>\n",
       "      <td>1</td>\n",
       "      <td>1</td>\n",
       "      <td>0</td>\n",
       "    </tr>\n",
       "    <tr>\n",
       "      <td>6</td>\n",
       "      <td>Buick Century</td>\n",
       "      <td>22</td>\n",
       "      <td>17.5</td>\n",
       "      <td>195</td>\n",
       "      <td>109</td>\n",
       "      <td>73</td>\n",
       "      <td>40</td>\n",
       "      <td>3350.0</td>\n",
       "      <td>50.5</td>\n",
       "      <td>17.0</td>\n",
       "      <td>58.0</td>\n",
       "      <td>44.0</td>\n",
       "      <td>5.0</td>\n",
       "      <td>57.0</td>\n",
       "      <td>30.0</td>\n",
       "      <td>2.0</td>\n",
       "      <td>1</td>\n",
       "      <td>0</td>\n",
       "      <td>0</td>\n",
       "      <td>1</td>\n",
       "    </tr>\n",
       "    <tr>\n",
       "      <td>7</td>\n",
       "      <td>Buick LeSabre</td>\n",
       "      <td>20</td>\n",
       "      <td>17.5</td>\n",
       "      <td>200</td>\n",
       "      <td>112</td>\n",
       "      <td>74</td>\n",
       "      <td>42</td>\n",
       "      <td>3640.0</td>\n",
       "      <td>51.0</td>\n",
       "      <td>18.0</td>\n",
       "      <td>59.5</td>\n",
       "      <td>40.5</td>\n",
       "      <td>5.0</td>\n",
       "      <td>58.0</td>\n",
       "      <td>27.5</td>\n",
       "      <td>4.5</td>\n",
       "      <td>1</td>\n",
       "      <td>0</td>\n",
       "      <td>0</td>\n",
       "      <td>1</td>\n",
       "    </tr>\n",
       "    <tr>\n",
       "      <td>8</td>\n",
       "      <td>Buick Park Avenue</td>\n",
       "      <td>21</td>\n",
       "      <td>18.5</td>\n",
       "      <td>207</td>\n",
       "      <td>114</td>\n",
       "      <td>75</td>\n",
       "      <td>43</td>\n",
       "      <td>3880.0</td>\n",
       "      <td>51.0</td>\n",
       "      <td>19.0</td>\n",
       "      <td>59.5</td>\n",
       "      <td>42.5</td>\n",
       "      <td>6.0</td>\n",
       "      <td>58.5</td>\n",
       "      <td>31.5</td>\n",
       "      <td>3.0</td>\n",
       "      <td>1</td>\n",
       "      <td>0</td>\n",
       "      <td>0</td>\n",
       "      <td>1</td>\n",
       "    </tr>\n",
       "    <tr>\n",
       "      <td>9</td>\n",
       "      <td>Buick Regal</td>\n",
       "      <td>21</td>\n",
       "      <td>17.5</td>\n",
       "      <td>196</td>\n",
       "      <td>109</td>\n",
       "      <td>73</td>\n",
       "      <td>40</td>\n",
       "      <td>3325.0</td>\n",
       "      <td>50.5</td>\n",
       "      <td>17.0</td>\n",
       "      <td>58.0</td>\n",
       "      <td>43.0</td>\n",
       "      <td>5.0</td>\n",
       "      <td>56.5</td>\n",
       "      <td>29.0</td>\n",
       "      <td>2.5</td>\n",
       "      <td>1</td>\n",
       "      <td>0</td>\n",
       "      <td>0</td>\n",
       "      <td>1</td>\n",
       "    </tr>\n",
       "  </tbody>\n",
       "</table>\n",
       "</div>"
      ],
      "text/plain": [
       "                Name  Mileage (mpg)  Capacity (gal)  Length (inches)  \\\n",
       "0      Acura Integra             31            13.2              172   \n",
       "1           Acura TL             22            17.1              193   \n",
       "2            Audi A4             22            15.9              178   \n",
       "3            Audi A6             20            18.5              192   \n",
       "4       BMW 3-Series             24            16.6              176   \n",
       "5       BMW 5-Series             20            18.5              188   \n",
       "6      Buick Century             22            17.5              195   \n",
       "7      Buick LeSabre             20            17.5              200   \n",
       "8  Buick Park Avenue             21            18.5              207   \n",
       "9        Buick Regal             21            17.5              196   \n",
       "\n",
       "   Wheel Base (inches)  Width (inches)  Turning Circle (feet)  Weight (lbs)  \\\n",
       "0                  101              67                     39        2635.0   \n",
       "1                  108              70                     40        3460.0   \n",
       "2                  103              68                     36        3345.0   \n",
       "3                  109              71                     39        3785.0   \n",
       "4                  107              69                     36        3265.0   \n",
       "5                  111              71                     38        3585.0   \n",
       "6                  109              73                     40        3350.0   \n",
       "7                  112              74                     42        3640.0   \n",
       "8                  114              75                     43        3880.0   \n",
       "9                  109              73                     40        3325.0   \n",
       "\n",
       "   Door Top (inches)  Luggage (cu. ft.)  Front Shoulder (inches)  \\\n",
       "0               47.5               13.0                     51.5   \n",
       "1               50.0               14.0                     56.0   \n",
       "2               50.5               14.0                     54.0   \n",
       "3               51.0               15.0                     55.0   \n",
       "4               50.0               11.0                     55.0   \n",
       "5               51.0               11.0                     57.0   \n",
       "6               50.5               17.0                     58.0   \n",
       "7               51.0               18.0                     59.5   \n",
       "8               51.0               19.0                     59.5   \n",
       "9               50.5               17.0                     58.0   \n",
       "\n",
       "   Front Leg Room (inches)  Front Head Room (inches)  Rear Shoulder (inches)  \\\n",
       "0                     41.5                       2.0                    46.5   \n",
       "1                     40.5                       2.5                    55.0   \n",
       "2                     40.5                       3.5                    52.0   \n",
       "3                     42.0                       4.0                    55.0   \n",
       "4                     41.5                       3.5                    54.0   \n",
       "5                     43.0                       3.5                    55.0   \n",
       "6                     44.0                       5.0                    57.0   \n",
       "7                     40.5                       5.0                    58.0   \n",
       "8                     42.5                       6.0                    58.5   \n",
       "9                     43.0                       5.0                    56.5   \n",
       "\n",
       "   Rear Leg Room (inches)  Rear Head Room (inches)  Drive Type_Front  \\\n",
       "0                    25.0                      0.5                 1   \n",
       "1                    27.0                      2.0                 1   \n",
       "2                    24.5                      2.0                 1   \n",
       "3                    30.0                      3.5                 1   \n",
       "4                    26.0                      3.0                 0   \n",
       "5                    29.0                      3.5                 0   \n",
       "6                    30.0                      2.0                 1   \n",
       "7                    27.5                      4.5                 1   \n",
       "8                    31.5                      3.0                 1   \n",
       "9                    29.0                      2.5                 1   \n",
       "\n",
       "   Drive Type_Rear  Fuel Type_Premium  Fuel Type_Regular  \n",
       "0                0                  0                  1  \n",
       "1                0                  1                  0  \n",
       "2                0                  1                  0  \n",
       "3                0                  1                  0  \n",
       "4                1                  1                  0  \n",
       "5                1                  1                  0  \n",
       "6                0                  0                  1  \n",
       "7                0                  0                  1  \n",
       "8                0                  0                  1  \n",
       "9                0                  0                  1  "
      ]
     },
     "execution_count": 506,
     "metadata": {},
     "output_type": "execute_result"
    }
   ],
   "source": [
    "#create the new dataset (auto2) with dummy variables \n",
    "auto2=pd.DataFrame(pd.get_dummies(auto,columns=['Drive Type', 'Fuel Type']))\n",
    "auto2.head(10)"
   ]
  },
  {
   "cell_type": "code",
   "execution_count": 507,
   "metadata": {},
   "outputs": [
    {
     "data": {
      "text/plain": [
       "(106, 20)"
      ]
     },
     "execution_count": 507,
     "metadata": {},
     "output_type": "execute_result"
    }
   ],
   "source": [
    "dummy.shape"
   ]
  },
  {
   "cell_type": "markdown",
   "metadata": {},
   "source": [
    "#### 6.\tPerform basic correlation analysis (a correlation matrix) among the attributes. "
   ]
  },
  {
   "cell_type": "code",
   "execution_count": 508,
   "metadata": {},
   "outputs": [],
   "source": [
    "#correlation matrix\n",
    "corrMatrix = auto.corr()"
   ]
  },
  {
   "cell_type": "markdown",
   "metadata": {},
   "source": [
    "We can observe the relation between features either by drawing a heat map from seaborn or scatter matrix from pandas. "
   ]
  },
  {
   "cell_type": "code",
   "execution_count": 509,
   "metadata": {},
   "outputs": [
    {
     "data": {
      "image/png": "[encoded data removed]",
      "text/plain": [
       "<Figure size 1080x1080 with 2 Axes>"
      ]
     },
     "metadata": {
      "needs_background": "light"
     },
     "output_type": "display_data"
    }
   ],
   "source": [
    "#plot using seaborn library\n",
    "plt.figure(figsize=(15,15))\n",
    "mask=np.zeros_like(corrMatrix, dtype=np.bool)\n",
    "mask[np.triu_indices_from(mask)]=True\n",
    "\n",
    "sn.heatmap(corrMatrix, \n",
    "           annot=True,\n",
    "           vmin=-1,\n",
    "           vmax=1,\n",
    "           cmap='BrBG',\n",
    "           mask=mask)\n",
    "plt.show()"
   ]
  },
  {
   "cell_type": "markdown",
   "metadata": {},
   "source": [
    "It comes out that many of our features are highly correlated; for example we note that the variable weight is highly positively correlated with Capcity (gal), Door Top or Front Shoulder, and highly negatively correlated with Mileage(gal). Also we note a high positive correlation (0.91) between Width(inches) and Front Shoulder(inches). In contrast the variable Mileage is  negatively correlated with many of our features."
   ]
  },
  {
   "cell_type": "code",
   "execution_count": 510,
   "metadata": {},
   "outputs": [
    {
     "name": "stdout",
     "output_type": "stream",
     "text": [
      "                Capacity (gal)  Weight (lbs)\n",
      "Capacity (gal)        1.000000      0.888074\n",
      "Weight (lbs)          0.888074      1.000000\n"
     ]
    }
   ],
   "source": [
    "print( auto[['Capacity (gal)','Weight (lbs)']].corr())"
   ]
  },
  {
   "cell_type": "code",
   "execution_count": 511,
   "metadata": {},
   "outputs": [
    {
     "name": "stdout",
     "output_type": "stream",
     "text": [
      "               Mileage (mpg)  Weight (lbs)\n",
      "Mileage (mpg)       1.000000     -0.875434\n",
      "Weight (lbs)       -0.875434      1.000000\n"
     ]
    }
   ],
   "source": [
    "print( auto[['Mileage (mpg)','Weight (lbs)']].corr())"
   ]
  },
  {
   "cell_type": "code",
   "execution_count": 512,
   "metadata": {},
   "outputs": [
    {
     "data": {
      "text/plain": [
       "Capacity (gal)             0.888074\n",
       "Length (inches)            0.550863\n",
       "Wheel Base (inches)        0.678488\n",
       "Width (inches)             0.743765\n",
       "Turning Circle (feet)      0.625479\n",
       "Weight (lbs)               1.000000\n",
       "Door Top (inches)          0.777217\n",
       "Luggage (cu. ft.)          0.656608\n",
       "Front Shoulder (inches)    0.762697\n",
       "Rear Head Room (inches)    0.624352\n",
       "Name: Weight (lbs), dtype: float64"
      ]
     },
     "execution_count": 512,
     "metadata": {},
     "output_type": "execute_result"
    }
   ],
   "source": [
    "#Correlation with an output variable (weight)\n",
    "cor_target = corrMatrix[\"Weight (lbs)\"]\n",
    "\n",
    "#select correlation rate between Weight and other features.\n",
    "relevant_features = cor_target[cor_target>0.5]\n",
    "relevant_features"
   ]
  },
  {
   "cell_type": "markdown",
   "metadata": {},
   "source": [
    "#### 7.\tUsing the new converted dataset, perform a Principal Component Analysis (PCA). How much variation is captured in 3 Principal Components? Here is the "
   ]
  },
  {
   "cell_type": "markdown",
   "metadata": {},
   "source": [
    "As we know it is difficult to visualize the data with so many features i.e high dimensional data so we can use PCA to find the three principal components hence visualize the data in three-dimensional space with a single scatter plot. But, before that, we need to pre-process the data i.e we need to scale the data such that each feature has unit variance and has not a greater impact than the other one."
   ]
  },
  {
   "cell_type": "code",
   "execution_count": 513,
   "metadata": {},
   "outputs": [
    {
     "data": {
      "text/html": [
       "<div>\n",
       "<style scoped>\n",
       "    .dataframe tbody tr th:only-of-type {\n",
       "        vertical-align: middle;\n",
       "    }\n",
       "\n",
       "    .dataframe tbody tr th {\n",
       "        vertical-align: top;\n",
       "    }\n",
       "\n",
       "    .dataframe thead th {\n",
       "        text-align: right;\n",
       "    }\n",
       "</style>\n",
       "<table border=\"1\" class=\"dataframe\">\n",
       "  <thead>\n",
       "    <tr style=\"text-align: right;\">\n",
       "      <th></th>\n",
       "      <th>Mileage (mpg)</th>\n",
       "      <th>Capacity (gal)</th>\n",
       "      <th>Length (inches)</th>\n",
       "      <th>Wheel Base (inches)</th>\n",
       "      <th>Width (inches)</th>\n",
       "      <th>Turning Circle (feet)</th>\n",
       "      <th>Weight (lbs)</th>\n",
       "      <th>Door Top (inches)</th>\n",
       "      <th>Luggage (cu. ft.)</th>\n",
       "      <th>Front Shoulder (inches)</th>\n",
       "      <th>Front Leg Room (inches)</th>\n",
       "      <th>Front Head Room (inches)</th>\n",
       "      <th>Rear Shoulder (inches)</th>\n",
       "      <th>Rear Leg Room (inches)</th>\n",
       "      <th>Rear Head Room (inches)</th>\n",
       "      <th>Drive Type_Front</th>\n",
       "      <th>Drive Type_Rear</th>\n",
       "      <th>Fuel Type_Premium</th>\n",
       "      <th>Fuel Type_Regular</th>\n",
       "    </tr>\n",
       "  </thead>\n",
       "  <tbody>\n",
       "    <tr>\n",
       "      <td>0</td>\n",
       "      <td>31</td>\n",
       "      <td>13.2</td>\n",
       "      <td>172</td>\n",
       "      <td>101</td>\n",
       "      <td>67</td>\n",
       "      <td>39</td>\n",
       "      <td>2635.0</td>\n",
       "      <td>47.5</td>\n",
       "      <td>13.0</td>\n",
       "      <td>51.5</td>\n",
       "      <td>41.5</td>\n",
       "      <td>2.0</td>\n",
       "      <td>46.5</td>\n",
       "      <td>25.0</td>\n",
       "      <td>0.5</td>\n",
       "      <td>1</td>\n",
       "      <td>0</td>\n",
       "      <td>0</td>\n",
       "      <td>1</td>\n",
       "    </tr>\n",
       "    <tr>\n",
       "      <td>1</td>\n",
       "      <td>22</td>\n",
       "      <td>17.1</td>\n",
       "      <td>193</td>\n",
       "      <td>108</td>\n",
       "      <td>70</td>\n",
       "      <td>40</td>\n",
       "      <td>3460.0</td>\n",
       "      <td>50.0</td>\n",
       "      <td>14.0</td>\n",
       "      <td>56.0</td>\n",
       "      <td>40.5</td>\n",
       "      <td>2.5</td>\n",
       "      <td>55.0</td>\n",
       "      <td>27.0</td>\n",
       "      <td>2.0</td>\n",
       "      <td>1</td>\n",
       "      <td>0</td>\n",
       "      <td>1</td>\n",
       "      <td>0</td>\n",
       "    </tr>\n",
       "    <tr>\n",
       "      <td>2</td>\n",
       "      <td>22</td>\n",
       "      <td>15.9</td>\n",
       "      <td>178</td>\n",
       "      <td>103</td>\n",
       "      <td>68</td>\n",
       "      <td>36</td>\n",
       "      <td>3345.0</td>\n",
       "      <td>50.5</td>\n",
       "      <td>14.0</td>\n",
       "      <td>54.0</td>\n",
       "      <td>40.5</td>\n",
       "      <td>3.5</td>\n",
       "      <td>52.0</td>\n",
       "      <td>24.5</td>\n",
       "      <td>2.0</td>\n",
       "      <td>1</td>\n",
       "      <td>0</td>\n",
       "      <td>1</td>\n",
       "      <td>0</td>\n",
       "    </tr>\n",
       "    <tr>\n",
       "      <td>3</td>\n",
       "      <td>20</td>\n",
       "      <td>18.5</td>\n",
       "      <td>192</td>\n",
       "      <td>109</td>\n",
       "      <td>71</td>\n",
       "      <td>39</td>\n",
       "      <td>3785.0</td>\n",
       "      <td>51.0</td>\n",
       "      <td>15.0</td>\n",
       "      <td>55.0</td>\n",
       "      <td>42.0</td>\n",
       "      <td>4.0</td>\n",
       "      <td>55.0</td>\n",
       "      <td>30.0</td>\n",
       "      <td>3.5</td>\n",
       "      <td>1</td>\n",
       "      <td>0</td>\n",
       "      <td>1</td>\n",
       "      <td>0</td>\n",
       "    </tr>\n",
       "    <tr>\n",
       "      <td>4</td>\n",
       "      <td>24</td>\n",
       "      <td>16.6</td>\n",
       "      <td>176</td>\n",
       "      <td>107</td>\n",
       "      <td>69</td>\n",
       "      <td>36</td>\n",
       "      <td>3265.0</td>\n",
       "      <td>50.0</td>\n",
       "      <td>11.0</td>\n",
       "      <td>55.0</td>\n",
       "      <td>41.5</td>\n",
       "      <td>3.5</td>\n",
       "      <td>54.0</td>\n",
       "      <td>26.0</td>\n",
       "      <td>3.0</td>\n",
       "      <td>0</td>\n",
       "      <td>1</td>\n",
       "      <td>1</td>\n",
       "      <td>0</td>\n",
       "    </tr>\n",
       "    <tr>\n",
       "      <td>5</td>\n",
       "      <td>20</td>\n",
       "      <td>18.5</td>\n",
       "      <td>188</td>\n",
       "      <td>111</td>\n",
       "      <td>71</td>\n",
       "      <td>38</td>\n",
       "      <td>3585.0</td>\n",
       "      <td>51.0</td>\n",
       "      <td>11.0</td>\n",
       "      <td>57.0</td>\n",
       "      <td>43.0</td>\n",
       "      <td>3.5</td>\n",
       "      <td>55.0</td>\n",
       "      <td>29.0</td>\n",
       "      <td>3.5</td>\n",
       "      <td>0</td>\n",
       "      <td>1</td>\n",
       "      <td>1</td>\n",
       "      <td>0</td>\n",
       "    </tr>\n",
       "    <tr>\n",
       "      <td>6</td>\n",
       "      <td>22</td>\n",
       "      <td>17.5</td>\n",
       "      <td>195</td>\n",
       "      <td>109</td>\n",
       "      <td>73</td>\n",
       "      <td>40</td>\n",
       "      <td>3350.0</td>\n",
       "      <td>50.5</td>\n",
       "      <td>17.0</td>\n",
       "      <td>58.0</td>\n",
       "      <td>44.0</td>\n",
       "      <td>5.0</td>\n",
       "      <td>57.0</td>\n",
       "      <td>30.0</td>\n",
       "      <td>2.0</td>\n",
       "      <td>1</td>\n",
       "      <td>0</td>\n",
       "      <td>0</td>\n",
       "      <td>1</td>\n",
       "    </tr>\n",
       "    <tr>\n",
       "      <td>7</td>\n",
       "      <td>20</td>\n",
       "      <td>17.5</td>\n",
       "      <td>200</td>\n",
       "      <td>112</td>\n",
       "      <td>74</td>\n",
       "      <td>42</td>\n",
       "      <td>3640.0</td>\n",
       "      <td>51.0</td>\n",
       "      <td>18.0</td>\n",
       "      <td>59.5</td>\n",
       "      <td>40.5</td>\n",
       "      <td>5.0</td>\n",
       "      <td>58.0</td>\n",
       "      <td>27.5</td>\n",
       "      <td>4.5</td>\n",
       "      <td>1</td>\n",
       "      <td>0</td>\n",
       "      <td>0</td>\n",
       "      <td>1</td>\n",
       "    </tr>\n",
       "    <tr>\n",
       "      <td>8</td>\n",
       "      <td>21</td>\n",
       "      <td>18.5</td>\n",
       "      <td>207</td>\n",
       "      <td>114</td>\n",
       "      <td>75</td>\n",
       "      <td>43</td>\n",
       "      <td>3880.0</td>\n",
       "      <td>51.0</td>\n",
       "      <td>19.0</td>\n",
       "      <td>59.5</td>\n",
       "      <td>42.5</td>\n",
       "      <td>6.0</td>\n",
       "      <td>58.5</td>\n",
       "      <td>31.5</td>\n",
       "      <td>3.0</td>\n",
       "      <td>1</td>\n",
       "      <td>0</td>\n",
       "      <td>0</td>\n",
       "      <td>1</td>\n",
       "    </tr>\n",
       "    <tr>\n",
       "      <td>9</td>\n",
       "      <td>21</td>\n",
       "      <td>17.5</td>\n",
       "      <td>196</td>\n",
       "      <td>109</td>\n",
       "      <td>73</td>\n",
       "      <td>40</td>\n",
       "      <td>3325.0</td>\n",
       "      <td>50.5</td>\n",
       "      <td>17.0</td>\n",
       "      <td>58.0</td>\n",
       "      <td>43.0</td>\n",
       "      <td>5.0</td>\n",
       "      <td>56.5</td>\n",
       "      <td>29.0</td>\n",
       "      <td>2.5</td>\n",
       "      <td>1</td>\n",
       "      <td>0</td>\n",
       "      <td>0</td>\n",
       "      <td>1</td>\n",
       "    </tr>\n",
       "  </tbody>\n",
       "</table>\n",
       "</div>"
      ],
      "text/plain": [
       "   Mileage (mpg)  Capacity (gal)  Length (inches)  Wheel Base (inches)  \\\n",
       "0             31            13.2              172                  101   \n",
       "1             22            17.1              193                  108   \n",
       "2             22            15.9              178                  103   \n",
       "3             20            18.5              192                  109   \n",
       "4             24            16.6              176                  107   \n",
       "5             20            18.5              188                  111   \n",
       "6             22            17.5              195                  109   \n",
       "7             20            17.5              200                  112   \n",
       "8             21            18.5              207                  114   \n",
       "9             21            17.5              196                  109   \n",
       "\n",
       "   Width (inches)  Turning Circle (feet)  Weight (lbs)  Door Top (inches)  \\\n",
       "0              67                     39        2635.0               47.5   \n",
       "1              70                     40        3460.0               50.0   \n",
       "2              68                     36        3345.0               50.5   \n",
       "3              71                     39        3785.0               51.0   \n",
       "4              69                     36        3265.0               50.0   \n",
       "5              71                     38        3585.0               51.0   \n",
       "6              73                     40        3350.0               50.5   \n",
       "7              74                     42        3640.0               51.0   \n",
       "8              75                     43        3880.0               51.0   \n",
       "9              73                     40        3325.0               50.5   \n",
       "\n",
       "   Luggage (cu. ft.)  Front Shoulder (inches)  Front Leg Room (inches)  \\\n",
       "0               13.0                     51.5                     41.5   \n",
       "1               14.0                     56.0                     40.5   \n",
       "2               14.0                     54.0                     40.5   \n",
       "3               15.0                     55.0                     42.0   \n",
       "4               11.0                     55.0                     41.5   \n",
       "5               11.0                     57.0                     43.0   \n",
       "6               17.0                     58.0                     44.0   \n",
       "7               18.0                     59.5                     40.5   \n",
       "8               19.0                     59.5                     42.5   \n",
       "9               17.0                     58.0                     43.0   \n",
       "\n",
       "   Front Head Room (inches)  Rear Shoulder (inches)  Rear Leg Room (inches)  \\\n",
       "0                       2.0                    46.5                    25.0   \n",
       "1                       2.5                    55.0                    27.0   \n",
       "2                       3.5                    52.0                    24.5   \n",
       "3                       4.0                    55.0                    30.0   \n",
       "4                       3.5                    54.0                    26.0   \n",
       "5                       3.5                    55.0                    29.0   \n",
       "6                       5.0                    57.0                    30.0   \n",
       "7                       5.0                    58.0                    27.5   \n",
       "8                       6.0                    58.5                    31.5   \n",
       "9                       5.0                    56.5                    29.0   \n",
       "\n",
       "   Rear Head Room (inches)  Drive Type_Front  Drive Type_Rear  \\\n",
       "0                      0.5                 1                0   \n",
       "1                      2.0                 1                0   \n",
       "2                      2.0                 1                0   \n",
       "3                      3.5                 1                0   \n",
       "4                      3.0                 0                1   \n",
       "5                      3.5                 0                1   \n",
       "6                      2.0                 1                0   \n",
       "7                      4.5                 1                0   \n",
       "8                      3.0                 1                0   \n",
       "9                      2.5                 1                0   \n",
       "\n",
       "   Fuel Type_Premium  Fuel Type_Regular  \n",
       "0                  0                  1  \n",
       "1                  1                  0  \n",
       "2                  1                  0  \n",
       "3                  1                  0  \n",
       "4                  1                  0  \n",
       "5                  1                  0  \n",
       "6                  0                  1  \n",
       "7                  0                  1  \n",
       "8                  0                  1  \n",
       "9                  0                  1  "
      ]
     },
     "execution_count": 513,
     "metadata": {},
     "output_type": "execute_result"
    }
   ],
   "source": [
    "#selecting the numeric columns, data=auto2\n",
    "auto_num=auto2._get_numeric_data()\n",
    "auto_num.head(10)"
   ]
  },
  {
   "cell_type": "code",
   "execution_count": 514,
   "metadata": {},
   "outputs": [
    {
     "data": {
      "text/plain": [
       "PCA(copy=True, iterated_power='auto', n_components=3, random_state=None,\n",
       "    svd_solver='auto', tol=0.0, whiten=False)"
      ]
     },
     "execution_count": 514,
     "metadata": {},
     "output_type": "execute_result"
    }
   ],
   "source": [
    "#we  specify number of components as 3\n",
    "from sklearn.decomposition import PCA\n",
    "pca_auto = PCA(n_components=3)\n",
    "pca_auto.fit(auto_num)\n"
   ]
  },
  {
   "cell_type": "markdown",
   "metadata": {},
   "source": [
    "Now we can transform this data to its first 3 principal components."
   ]
  },
  {
   "cell_type": "code",
   "execution_count": 515,
   "metadata": {},
   "outputs": [],
   "source": [
    "principalComponents_auto = pca_auto.fit_transform(auto_num)"
   ]
  },
  {
   "cell_type": "code",
   "execution_count": 516,
   "metadata": {},
   "outputs": [
    {
     "name": "stdout",
     "output_type": "stream",
     "text": [
      "Explained variation per principal component: [9.98979113e-01 5.16171984e-04 3.14170638e-04]\n"
     ]
    }
   ],
   "source": [
    "print('Explained variation per principal component: {}'.format(pca_auto.explained_variance_ratio_))"
   ]
  },
  {
   "cell_type": "code",
   "execution_count": 517,
   "metadata": {},
   "outputs": [
    {
     "name": "stdout",
     "output_type": "stream",
     "text": [
      "singular value per principal component: [6493.19215739  147.59691013  115.14970992]\n"
     ]
    }
   ],
   "source": [
    "print('singular value per principal component: {}'.format(pca_auto.singular_values_))"
   ]
  },
  {
   "cell_type": "code",
   "execution_count": 518,
   "metadata": {},
   "outputs": [],
   "source": [
    "# Store results of PCA in a data frame\n",
    "\n",
    "#principal_auto_df = pd.DataFrame(data = principalComponents_auto\n",
    "#             , columns = ['principal component 1', 'principal component 2', 'principal component 3'])\n",
    "\n",
    "principal_auto_df=pd.DataFrame(data=principalComponents_auto, \n",
    "columns=['PCA%i' % i for i in range(3)], index=auto_num.index)\n",
    "\n"
   ]
  },
  {
   "cell_type": "code",
   "execution_count": 519,
   "metadata": {},
   "outputs": [
    {
     "data": {
      "text/html": [
       "<div>\n",
       "<style scoped>\n",
       "    .dataframe tbody tr th:only-of-type {\n",
       "        vertical-align: middle;\n",
       "    }\n",
       "\n",
       "    .dataframe tbody tr th {\n",
       "        vertical-align: top;\n",
       "    }\n",
       "\n",
       "    .dataframe thead th {\n",
       "        text-align: right;\n",
       "    }\n",
       "</style>\n",
       "<table border=\"1\" class=\"dataframe\">\n",
       "  <thead>\n",
       "    <tr style=\"text-align: right;\">\n",
       "      <th></th>\n",
       "      <th>PCA0</th>\n",
       "      <th>PCA1</th>\n",
       "      <th>PCA2</th>\n",
       "    </tr>\n",
       "  </thead>\n",
       "  <tbody>\n",
       "    <tr>\n",
       "      <td>101</td>\n",
       "      <td>-722.796143</td>\n",
       "      <td>-8.129953</td>\n",
       "      <td>16.678610</td>\n",
       "    </tr>\n",
       "    <tr>\n",
       "      <td>102</td>\n",
       "      <td>-327.500770</td>\n",
       "      <td>3.633337</td>\n",
       "      <td>1.084826</td>\n",
       "    </tr>\n",
       "    <tr>\n",
       "      <td>103</td>\n",
       "      <td>-542.609292</td>\n",
       "      <td>-0.827499</td>\n",
       "      <td>6.883444</td>\n",
       "    </tr>\n",
       "    <tr>\n",
       "      <td>104</td>\n",
       "      <td>-197.500377</td>\n",
       "      <td>6.213200</td>\n",
       "      <td>2.227795</td>\n",
       "    </tr>\n",
       "    <tr>\n",
       "      <td>105</td>\n",
       "      <td>127.499214</td>\n",
       "      <td>13.269588</td>\n",
       "      <td>3.069673</td>\n",
       "    </tr>\n",
       "  </tbody>\n",
       "</table>\n",
       "</div>"
      ],
      "text/plain": [
       "           PCA0       PCA1       PCA2\n",
       "101 -722.796143  -8.129953  16.678610\n",
       "102 -327.500770   3.633337   1.084826\n",
       "103 -542.609292  -0.827499   6.883444\n",
       "104 -197.500377   6.213200   2.227795\n",
       "105  127.499214  13.269588   3.069673"
      ]
     },
     "execution_count": 519,
     "metadata": {},
     "output_type": "execute_result"
    }
   ],
   "source": [
    "principal_auto_df.tail()"
   ]
  },
  {
   "cell_type": "code",
   "execution_count": 520,
   "metadata": {},
   "outputs": [
    {
     "data": {
      "text/plain": [
       "<Figure size 680x680 with 0 Axes>"
      ]
     },
     "execution_count": 520,
     "metadata": {},
     "output_type": "execute_result"
    },
    {
     "data": {
      "text/plain": [
       "<Figure size 680x680 with 0 Axes>"
      ]
     },
     "metadata": {},
     "output_type": "display_data"
    }
   ],
   "source": [
    "my_dpi=96\n",
    "plt.figure(figsize=(680/my_dpi, 680/my_dpi), dpi=my_dpi)"
   ]
  },
  {
   "cell_type": "code",
   "execution_count": 521,
   "metadata": {},
   "outputs": [
    {
     "data": {
      "image/png": "[encoded data removed]",
      "text/plain": [
       "<Figure size 432x288 with 1 Axes>"
      ]
     },
     "metadata": {
      "needs_background": "light"
     },
     "output_type": "display_data"
    },
    {
     "data": {
      "text/plain": [
       "<Figure size 3600x3600 with 0 Axes>"
      ]
     },
     "metadata": {},
     "output_type": "display_data"
    }
   ],
   "source": [
    "# Plot initialisation\n",
    "from mpl_toolkits.mplot3d import Axes3D # <--- This is important for 3d plotting \n",
    "\n",
    "result=principal_auto_df\n",
    "fig = plt.figure()\n",
    "plt.figure(figsize=(50,50))\n",
    "ax = fig.add_subplot(111, projection='3d')\n",
    "ax.scatter(result['PCA0'], result['PCA1'], result['PCA2'], cmap=\"coolwarm\", s=40)\n",
    "\n",
    "# make simple, bare axis lines through space:\n",
    "xAxisLine = ((min(result['PCA0']), max(result['PCA0'])), (0, 0), (0,0))\n",
    "ax.plot(xAxisLine[0], xAxisLine[1], xAxisLine[2], 'r')\n",
    "yAxisLine = ((0, 0), (min(result['PCA1']), max(result['PCA1'])), (0,0))\n",
    "ax.plot(yAxisLine[0], yAxisLine[1], yAxisLine[2], 'r')\n",
    "zAxisLine = ((0, 0), (0,0), (min(result['PCA2']), max(result['PCA2'])))\n",
    "ax.plot(zAxisLine[0], zAxisLine[1], zAxisLine[2], 'r')\n",
    " \n",
    "# label the axes\n",
    "ax.set_xlabel(\"PC1\")\n",
    "ax.set_ylabel(\"PC2\")\n",
    "ax.set_zlabel(\"PC3\")\n",
    "ax.set_title(\"PCA on the auto data set\")\n",
    "plt.show()"
   ]
  },
  {
   "cell_type": "markdown",
   "metadata": {},
   "source": [
    "We’ve reduced 18 dimensions to just 3! Let’s plot these three dimensions out!"
   ]
  },
  {
   "cell_type": "markdown",
   "metadata": {},
   "source": [
    "#### 8.\tUsing Matplotlib library, create a scatter plot of the (non-normalized) Weight attribute relative to MPG. Be sure that your plot contains appropriate labels for the axes."
   ]
  },
  {
   "cell_type": "markdown",
   "metadata": {},
   "source": [
    "Note: For the next steps I am using the auto data, i.e with the no-converted dummies."
   ]
  },
  {
   "cell_type": "code",
   "execution_count": 522,
   "metadata": {},
   "outputs": [
    {
     "data": {
      "image/png": "[encoded data removed]",
      "text/plain": [
       "<Figure size 432x288 with 1 Axes>"
      ]
     },
     "metadata": {
      "needs_background": "light"
     },
     "output_type": "display_data"
    }
   ],
   "source": [
    "auto_MPG=auto['Mileage (mpg)']\n",
    "plt.scatter(auto_Weight,auto_MPG)\n",
    "plt.title('Scatter of Weight and MPG')\n",
    "plt.xlabel(\"Weight\")\n",
    "plt.ylabel(\"MPG\")\n",
    "plt.show()"
   ]
  },
  {
   "cell_type": "code",
   "execution_count": 523,
   "metadata": {},
   "outputs": [
    {
     "data": {
      "text/plain": [
       "<seaborn.axisgrid.FacetGrid at 0x1ca532280c8>"
      ]
     },
     "execution_count": 523,
     "metadata": {},
     "output_type": "execute_result"
    },
    {
     "data": {
      "image/png": "[encoded data removed]",
      "text/plain": [
       "<Figure size 422.125x360 with 1 Axes>"
      ]
     },
     "metadata": {
      "needs_background": "light"
     },
     "output_type": "display_data"
    }
   ],
   "source": [
    "#seaborn scatterplot method\n",
    "sn.lmplot(data=auto, x='Weight (lbs)', y='Mileage (mpg)', hue='Drive Type')"
   ]
  },
  {
   "cell_type": "markdown",
   "metadata": {},
   "source": [
    "#### 9.\tUsing the hist function in Matplotlib (or Seaborn or both), create histograms for (non-normalized) Luggage (using 6 bins) and MPG (using 7 bins)."
   ]
  },
  {
   "cell_type": "code",
   "execution_count": 524,
   "metadata": {},
   "outputs": [
    {
     "data": {
      "image/png": "[encoded data removed]",
      "text/plain": [
       "<Figure size 432x288 with 1 Axes>"
      ]
     },
     "metadata": {
      "needs_background": "light"
     },
     "output_type": "display_data"
    }
   ],
   "source": [
    "auto_luggage=auto['Luggage (cu. ft.)']\n",
    "#histogram of weight using 6 bins\n",
    "n, bins, patches = plt.hist(auto_luggage, bins=6, facecolor='green', alpha=0.75)\n",
    "plt.ylim(0, 75)\n",
    "plt.title('Distribution of Luggage')\n",
    "plt.xlabel(\"Luggage (cu. ft.)\")\n",
    "plt.ylabel(\"Frequency\")\n",
    "plt.show()"
   ]
  },
  {
   "cell_type": "markdown",
   "metadata": {},
   "source": [
    "For the variable Mileage(MPG)"
   ]
  },
  {
   "cell_type": "code",
   "execution_count": 525,
   "metadata": {},
   "outputs": [
    {
     "data": {
      "image/png": "[encoded data removed]",
      "text/plain": [
       "<Figure size 432x288 with 1 Axes>"
      ]
     },
     "metadata": {
      "needs_background": "light"
     },
     "output_type": "display_data"
    }
   ],
   "source": [
    "plt.hist(auto_luggage, density=True, bins=10)  # density=False` would make counts\n",
    "plt.ylabel('Probability')\n",
    "plt.xlabel('Luggage (cu. ft.)');"
   ]
  },
  {
   "cell_type": "code",
   "execution_count": 526,
   "metadata": {},
   "outputs": [
    {
     "data": {
      "text/plain": [
       "<matplotlib.axes._subplots.AxesSubplot at 0x1ca53821288>"
      ]
     },
     "execution_count": 526,
     "metadata": {},
     "output_type": "execute_result"
    },
    {
     "data": {
      "image/png": "[encoded data removed]",
      "text/plain": [
       "<Figure size 432x288 with 1 Axes>"
      ]
     },
     "metadata": {
      "needs_background": "light"
     },
     "output_type": "display_data"
    }
   ],
   "source": [
    "# Hist with sn seaborn method - control the number of bins\n",
    "sn.distplot(auto_MPG, bins=7 )"
   ]
  },
  {
   "cell_type": "code",
   "execution_count": 527,
   "metadata": {},
   "outputs": [
    {
     "data": {
      "image/png": "[encoded data removed]",
      "text/plain": [
       "<Figure size 432x288 with 1 Axes>"
      ]
     },
     "metadata": {
      "needs_background": "light"
     },
     "output_type": "display_data"
    }
   ],
   "source": [
    "n, bins, patches = plt.hist(auto_MPG, 7, facecolor='purple', alpha=0.75)\n",
    "plt.ylim(0, 45)\n",
    "plt.title('Distribution of MPG')\n",
    "plt.xlabel(\"Mileage (mpg)\")\n",
    "plt.ylabel(\"Frequency\")\n",
    "plt.show()"
   ]
  },
  {
   "cell_type": "markdown",
   "metadata": {},
   "source": [
    "#### 10.\tPerform a cross-tabulation of the two \"fuel type\" variables versus the two \"Drive type\" variables"
   ]
  },
  {
   "cell_type": "code",
   "execution_count": 528,
   "metadata": {},
   "outputs": [
    {
     "name": "stdout",
     "output_type": "stream",
     "text": [
      "   DRIVE TYPE  Front  Rear\n",
      "FUEL TYPE                 \n",
      "Premium           11     8\n",
      "Regular           70    17\n"
     ]
    }
   ],
   "source": [
    "#cross validation tab\n",
    "auto_fuel=auto['Fuel Type']\n",
    "auto_DriveType=auto['Drive Type']\n",
    "auto_cssvalid=pd.crosstab(auto_fuel, auto_DriveType,colnames=['   DRIVE TYPE'],rownames=['FUEL TYPE'])\n",
    "print(auto_cssvalid)"
   ]
  },
  {
   "cell_type": "code",
   "execution_count": 529,
   "metadata": {},
   "outputs": [
    {
     "data": {
      "text/plain": [
       "Text(0.5, 1.0, 'Drive type by Fuel type')"
      ]
     },
     "execution_count": 529,
     "metadata": {},
     "output_type": "execute_result"
    },
    {
     "data": {
      "image/png": "[encoded data removed]",
      "text/plain": [
       "<Figure size 432x288 with 1 Axes>"
      ]
     },
     "metadata": {
      "needs_background": "light"
     },
     "output_type": "display_data"
    }
   ],
   "source": [
    "#bar chart of Drive type by type of fuel\n",
    "auto_cssvalid.plot(kind='bar', stacked=True)\n",
    "plt.title('Drive type by Fuel type')"
   ]
  },
  {
   "cell_type": "markdown",
   "metadata": {},
   "source": [
    "According to the graph, most cars use regular fuel, and among these cars, the large amount is in the front drive mode. For those who use premium fuel, we have almost the same number."
   ]
  },
  {
   "cell_type": "markdown",
   "metadata": {},
   "source": [
    "#### 11.\tCreate a new data frame where fuel is “regular” AND MPG is over 21. Call it Auto_sub. "
   ]
  },
  {
   "cell_type": "code",
   "execution_count": 435,
   "metadata": {},
   "outputs": [],
   "source": [
    "auto3=auto.rename(columns={'Fuel Type':'Fuel_Type', 'Drive Type':'Drive_Type', 'Mileage (mpg)':'MPG'})"
   ]
  },
  {
   "cell_type": "code",
   "execution_count": 436,
   "metadata": {},
   "outputs": [
    {
     "data": {
      "text/html": [
       "<div>\n",
       "<style scoped>\n",
       "    .dataframe tbody tr th:only-of-type {\n",
       "        vertical-align: middle;\n",
       "    }\n",
       "\n",
       "    .dataframe tbody tr th {\n",
       "        vertical-align: top;\n",
       "    }\n",
       "\n",
       "    .dataframe thead th {\n",
       "        text-align: right;\n",
       "    }\n",
       "</style>\n",
       "<table border=\"1\" class=\"dataframe\">\n",
       "  <thead>\n",
       "    <tr style=\"text-align: right;\">\n",
       "      <th></th>\n",
       "      <th>Name</th>\n",
       "      <th>Drive_Type</th>\n",
       "      <th>MPG</th>\n",
       "      <th>Fuel_Type</th>\n",
       "      <th>Capacity (gal)</th>\n",
       "      <th>Length (inches)</th>\n",
       "      <th>Wheel Base (inches)</th>\n",
       "      <th>Width (inches)</th>\n",
       "      <th>Turning Circle (feet)</th>\n",
       "      <th>Weight (lbs)</th>\n",
       "      <th>Door Top (inches)</th>\n",
       "      <th>Luggage (cu. ft.)</th>\n",
       "      <th>Front Shoulder (inches)</th>\n",
       "      <th>Front Leg Room (inches)</th>\n",
       "      <th>Front Head Room (inches)</th>\n",
       "      <th>Rear Shoulder (inches)</th>\n",
       "      <th>Rear Leg Room (inches)</th>\n",
       "      <th>Rear Head Room (inches)</th>\n",
       "    </tr>\n",
       "  </thead>\n",
       "  <tbody>\n",
       "    <tr>\n",
       "      <td>0</td>\n",
       "      <td>Acura Integra</td>\n",
       "      <td>Front</td>\n",
       "      <td>31</td>\n",
       "      <td>Regular</td>\n",
       "      <td>13.2</td>\n",
       "      <td>172</td>\n",
       "      <td>101</td>\n",
       "      <td>67</td>\n",
       "      <td>39</td>\n",
       "      <td>2635.0</td>\n",
       "      <td>47.5</td>\n",
       "      <td>13.0</td>\n",
       "      <td>51.5</td>\n",
       "      <td>41.5</td>\n",
       "      <td>2.0</td>\n",
       "      <td>46.5</td>\n",
       "      <td>25.0</td>\n",
       "      <td>0.5</td>\n",
       "    </tr>\n",
       "    <tr>\n",
       "      <td>6</td>\n",
       "      <td>Buick Century</td>\n",
       "      <td>Front</td>\n",
       "      <td>22</td>\n",
       "      <td>Regular</td>\n",
       "      <td>17.5</td>\n",
       "      <td>195</td>\n",
       "      <td>109</td>\n",
       "      <td>73</td>\n",
       "      <td>40</td>\n",
       "      <td>3350.0</td>\n",
       "      <td>50.5</td>\n",
       "      <td>17.0</td>\n",
       "      <td>58.0</td>\n",
       "      <td>44.0</td>\n",
       "      <td>5.0</td>\n",
       "      <td>57.0</td>\n",
       "      <td>30.0</td>\n",
       "      <td>2.0</td>\n",
       "    </tr>\n",
       "    <tr>\n",
       "      <td>12</td>\n",
       "      <td>Chevrolet Cavalier</td>\n",
       "      <td>Front</td>\n",
       "      <td>26</td>\n",
       "      <td>Regular</td>\n",
       "      <td>15.2</td>\n",
       "      <td>181</td>\n",
       "      <td>104</td>\n",
       "      <td>68</td>\n",
       "      <td>38</td>\n",
       "      <td>2795.0</td>\n",
       "      <td>50.5</td>\n",
       "      <td>14.0</td>\n",
       "      <td>54.5</td>\n",
       "      <td>41.5</td>\n",
       "      <td>4.5</td>\n",
       "      <td>53.5</td>\n",
       "      <td>28.0</td>\n",
       "      <td>2.0</td>\n",
       "    </tr>\n",
       "    <tr>\n",
       "      <td>14</td>\n",
       "      <td>Chevrolet Lumina</td>\n",
       "      <td>Front</td>\n",
       "      <td>22</td>\n",
       "      <td>Regular</td>\n",
       "      <td>16.6</td>\n",
       "      <td>201</td>\n",
       "      <td>108</td>\n",
       "      <td>73</td>\n",
       "      <td>44</td>\n",
       "      <td>3350.0</td>\n",
       "      <td>51.0</td>\n",
       "      <td>16.0</td>\n",
       "      <td>58.5</td>\n",
       "      <td>42.5</td>\n",
       "      <td>4.5</td>\n",
       "      <td>57.0</td>\n",
       "      <td>30.0</td>\n",
       "      <td>2.0</td>\n",
       "    </tr>\n",
       "    <tr>\n",
       "      <td>15</td>\n",
       "      <td>Chevrolet Malibu</td>\n",
       "      <td>Front</td>\n",
       "      <td>24</td>\n",
       "      <td>Regular</td>\n",
       "      <td>15.2</td>\n",
       "      <td>190</td>\n",
       "      <td>107</td>\n",
       "      <td>69</td>\n",
       "      <td>40</td>\n",
       "      <td>3075.0</td>\n",
       "      <td>50.5</td>\n",
       "      <td>17.0</td>\n",
       "      <td>55.0</td>\n",
       "      <td>43.0</td>\n",
       "      <td>4.5</td>\n",
       "      <td>54.0</td>\n",
       "      <td>30.5</td>\n",
       "      <td>2.0</td>\n",
       "    </tr>\n",
       "    <tr>\n",
       "      <td>16</td>\n",
       "      <td>Chevrolet Prizm</td>\n",
       "      <td>Front</td>\n",
       "      <td>31</td>\n",
       "      <td>Regular</td>\n",
       "      <td>13.2</td>\n",
       "      <td>175</td>\n",
       "      <td>97</td>\n",
       "      <td>67</td>\n",
       "      <td>34</td>\n",
       "      <td>2480.0</td>\n",
       "      <td>48.0</td>\n",
       "      <td>12.0</td>\n",
       "      <td>52.5</td>\n",
       "      <td>40.5</td>\n",
       "      <td>4.0</td>\n",
       "      <td>52.0</td>\n",
       "      <td>26.5</td>\n",
       "      <td>2.0</td>\n",
       "    </tr>\n",
       "    <tr>\n",
       "      <td>20</td>\n",
       "      <td>Chrysler Cirrus</td>\n",
       "      <td>Front</td>\n",
       "      <td>22</td>\n",
       "      <td>Regular</td>\n",
       "      <td>16.0</td>\n",
       "      <td>186</td>\n",
       "      <td>108</td>\n",
       "      <td>72</td>\n",
       "      <td>39</td>\n",
       "      <td>3170.0</td>\n",
       "      <td>49.0</td>\n",
       "      <td>16.0</td>\n",
       "      <td>55.0</td>\n",
       "      <td>42.0</td>\n",
       "      <td>4.0</td>\n",
       "      <td>54.5</td>\n",
       "      <td>31.0</td>\n",
       "      <td>1.5</td>\n",
       "    </tr>\n",
       "  </tbody>\n",
       "</table>\n",
       "</div>"
      ],
      "text/plain": [
       "                  Name Drive_Type  MPG Fuel_Type  Capacity (gal)  \\\n",
       "0        Acura Integra      Front   31   Regular            13.2   \n",
       "6        Buick Century      Front   22   Regular            17.5   \n",
       "12  Chevrolet Cavalier      Front   26   Regular            15.2   \n",
       "14    Chevrolet Lumina      Front   22   Regular            16.6   \n",
       "15    Chevrolet Malibu      Front   24   Regular            15.2   \n",
       "16     Chevrolet Prizm      Front   31   Regular            13.2   \n",
       "20     Chrysler Cirrus      Front   22   Regular            16.0   \n",
       "\n",
       "    Length (inches)  Wheel Base (inches)  Width (inches)  \\\n",
       "0               172                  101              67   \n",
       "6               195                  109              73   \n",
       "12              181                  104              68   \n",
       "14              201                  108              73   \n",
       "15              190                  107              69   \n",
       "16              175                   97              67   \n",
       "20              186                  108              72   \n",
       "\n",
       "    Turning Circle (feet)  Weight (lbs)  Door Top (inches)  Luggage (cu. ft.)  \\\n",
       "0                      39        2635.0               47.5               13.0   \n",
       "6                      40        3350.0               50.5               17.0   \n",
       "12                     38        2795.0               50.5               14.0   \n",
       "14                     44        3350.0               51.0               16.0   \n",
       "15                     40        3075.0               50.5               17.0   \n",
       "16                     34        2480.0               48.0               12.0   \n",
       "20                     39        3170.0               49.0               16.0   \n",
       "\n",
       "    Front Shoulder (inches)  Front Leg Room (inches)  \\\n",
       "0                      51.5                     41.5   \n",
       "6                      58.0                     44.0   \n",
       "12                     54.5                     41.5   \n",
       "14                     58.5                     42.5   \n",
       "15                     55.0                     43.0   \n",
       "16                     52.5                     40.5   \n",
       "20                     55.0                     42.0   \n",
       "\n",
       "    Front Head Room (inches)  Rear Shoulder (inches)  Rear Leg Room (inches)  \\\n",
       "0                        2.0                    46.5                    25.0   \n",
       "6                        5.0                    57.0                    30.0   \n",
       "12                       4.5                    53.5                    28.0   \n",
       "14                       4.5                    57.0                    30.0   \n",
       "15                       4.5                    54.0                    30.5   \n",
       "16                       4.0                    52.0                    26.5   \n",
       "20                       4.0                    54.5                    31.0   \n",
       "\n",
       "    Rear Head Room (inches)  \n",
       "0                       0.5  \n",
       "6                       2.0  \n",
       "12                      2.0  \n",
       "14                      2.0  \n",
       "15                      2.0  \n",
       "16                      2.0  \n",
       "20                      1.5  "
      ]
     },
     "execution_count": 436,
     "metadata": {},
     "output_type": "execute_result"
    }
   ],
   "source": [
    "auto_sub=auto3.query('MPG > 21 and Fuel_Type==\"Regular\"' ) \n",
    "\n",
    "auto_sub.head(7)"
   ]
  },
  {
   "cell_type": "code",
   "execution_count": 437,
   "metadata": {},
   "outputs": [
    {
     "data": {
      "text/plain": [
       "(41, 18)"
      ]
     },
     "execution_count": 437,
     "metadata": {},
     "output_type": "execute_result"
    }
   ],
   "source": [
    "auto_sub.shape"
   ]
  },
  {
   "cell_type": "code",
   "execution_count": 438,
   "metadata": {},
   "outputs": [
    {
     "data": {
      "text/plain": [
       "Index(['Name', 'Drive_Type', 'MPG', 'Fuel_Type', 'Capacity (gal)',\n",
       "       'Length (inches)', 'Wheel Base (inches)', 'Width (inches)',\n",
       "       'Turning Circle (feet)', 'Weight (lbs)', 'Door Top (inches)',\n",
       "       'Luggage (cu. ft.)', 'Front Shoulder (inches)',\n",
       "       'Front Leg Room (inches)', 'Front Head Room (inches)',\n",
       "       'Rear Shoulder (inches)', 'Rear Leg Room (inches)',\n",
       "       'Rear Head Room (inches)'],\n",
       "      dtype='object')"
      ]
     },
     "execution_count": 438,
     "metadata": {},
     "output_type": "execute_result"
    }
   ],
   "source": [
    "auto_sub.columns"
   ]
  },
  {
   "cell_type": "markdown",
   "metadata": {},
   "source": [
    "End !"
   ]
  }
 ],
 "metadata": {
  "kernelspec": {
   "display_name": "Python 3",
   "language": "python",
   "name": "python3"
  },
  "language_info": {
   "codemirror_mode": {
    "name": "ipython",
    "version": 3
   },
   "file_extension": ".py",
   "mimetype": "text/x-python",
   "name": "python",
   "nbconvert_exporter": "python",
   "pygments_lexer": "ipython3",
   "version": "3.7.4"
  }
 },
 "nbformat": 4,
 "nbformat_minor": 2
}
